{
 "cells": [
  {
   "cell_type": "markdown",
   "id": "328c05a1",
   "metadata": {
    "papermill": {
     "duration": 0.006847,
     "end_time": "2025-01-28T03:05:51.702022",
     "exception": false,
     "start_time": "2025-01-28T03:05:51.695175",
     "status": "completed"
    },
    "tags": []
   },
   "source": [
    "**This notebook is an exercise in the [Intermediate Machine Learning](https://www.kaggle.com/learn/intermediate-machine-learning) course.  You can reference the tutorial at [this link](https://www.kaggle.com/alexisbcook/xgboost).**\n",
    "\n",
    "---\n"
   ]
  },
  {
   "cell_type": "markdown",
   "id": "4512416b",
   "metadata": {
    "papermill": {
     "duration": 0.003708,
     "end_time": "2025-01-28T03:05:51.709991",
     "exception": false,
     "start_time": "2025-01-28T03:05:51.706283",
     "status": "completed"
    },
    "tags": []
   },
   "source": [
    "In this exercise, you will use your new knowledge to train a model with **gradient boosting**.\n",
    "\n",
    "# Setup\n",
    "\n",
    "The questions below will give you feedback on your work. Run the following cell to set up the feedback system."
   ]
  },
  {
   "cell_type": "code",
   "execution_count": 1,
   "id": "8dadc117",
   "metadata": {
    "execution": {
     "iopub.execute_input": "2025-01-28T03:05:51.719032Z",
     "iopub.status.busy": "2025-01-28T03:05:51.718627Z",
     "iopub.status.idle": "2025-01-28T03:05:54.667278Z",
     "shell.execute_reply": "2025-01-28T03:05:54.666100Z"
    },
    "papermill": {
     "duration": 2.955012,
     "end_time": "2025-01-28T03:05:54.668856",
     "exception": false,
     "start_time": "2025-01-28T03:05:51.713844",
     "status": "completed"
    },
    "tags": []
   },
   "outputs": [
    {
     "name": "stdout",
     "output_type": "stream",
     "text": [
      "Setup Complete\n"
     ]
    }
   ],
   "source": [
    "# Set up code checking\n",
    "import os\n",
    "if not os.path.exists(\"../input/train.csv\"):\n",
    "    os.symlink(\"../input/home-data-for-ml-course/train.csv\", \"../input/train.csv\")  \n",
    "    os.symlink(\"../input/home-data-for-ml-course/test.csv\", \"../input/test.csv\") \n",
    "from learntools.core import binder\n",
    "binder.bind(globals())\n",
    "from learntools.ml_intermediate.ex6 import *\n",
    "print(\"Setup Complete\")"
   ]
  },
  {
   "cell_type": "markdown",
   "id": "c2ebb99b",
   "metadata": {
    "papermill": {
     "duration": 0.003884,
     "end_time": "2025-01-28T03:05:54.677641",
     "exception": false,
     "start_time": "2025-01-28T03:05:54.673757",
     "status": "completed"
    },
    "tags": []
   },
   "source": [
    "You will work with the [Housing Prices Competition for Kaggle Learn Users](https://www.kaggle.com/c/home-data-for-ml-course) dataset from the previous exercise. \n",
    "\n",
    "![Ames Housing dataset image](https://storage.googleapis.com/kaggle-media/learn/images/lTJVG4e.png)\n",
    "\n",
    "Run the next code cell without changes to load the training and validation sets in `X_train`, `X_valid`, `y_train`, and `y_valid`.  The test set is loaded in `X_test`."
   ]
  },
  {
   "cell_type": "code",
   "execution_count": 2,
   "id": "044ead14",
   "metadata": {
    "execution": {
     "iopub.execute_input": "2025-01-28T03:05:54.686585Z",
     "iopub.status.busy": "2025-01-28T03:05:54.686263Z",
     "iopub.status.idle": "2025-01-28T03:05:54.828687Z",
     "shell.execute_reply": "2025-01-28T03:05:54.827684Z"
    },
    "papermill": {
     "duration": 0.148953,
     "end_time": "2025-01-28T03:05:54.830558",
     "exception": false,
     "start_time": "2025-01-28T03:05:54.681605",
     "status": "completed"
    },
    "tags": []
   },
   "outputs": [],
   "source": [
    "import pandas as pd\n",
    "from sklearn.model_selection import train_test_split\n",
    "\n",
    "# Read the data\n",
    "X = pd.read_csv('../input/train.csv', index_col='Id')\n",
    "X_test_full = pd.read_csv('../input/test.csv', index_col='Id')\n",
    "\n",
    "# Remove rows with missing target, separate target from predictors\n",
    "X.dropna(axis=0, subset=['SalePrice'], inplace=True)\n",
    "y = X.SalePrice              \n",
    "X.drop(['SalePrice'], axis=1, inplace=True)\n",
    "\n",
    "# Break off validation set from training data\n",
    "X_train_full, X_valid_full, y_train, y_valid = train_test_split(X, y, train_size=0.8, test_size=0.2,\n",
    "                                                                random_state=0)\n",
    "\n",
    "# \"Cardinality\" means the number of unique values in a column\n",
    "# Select categorical columns with relatively low cardinality (convenient but arbitrary)\n",
    "low_cardinality_cols = [cname for cname in X_train_full.columns if X_train_full[cname].nunique() < 10 and \n",
    "                        X_train_full[cname].dtype == \"object\"]\n",
    "\n",
    "# Select numeric columns\n",
    "numeric_cols = [cname for cname in X_train_full.columns if X_train_full[cname].dtype in ['int64', 'float64']]\n",
    "\n",
    "# Keep selected columns only\n",
    "my_cols = low_cardinality_cols + numeric_cols\n",
    "X_train = X_train_full[my_cols].copy()\n",
    "X_valid = X_valid_full[my_cols].copy()\n",
    "X_test = X_test_full[my_cols].copy()\n",
    "\n",
    "# One-hot encode the data (to shorten the code, we use pandas)\n",
    "X_train = pd.get_dummies(X_train)\n",
    "X_valid = pd.get_dummies(X_valid)\n",
    "X_test = pd.get_dummies(X_test)\n",
    "X_train, X_valid = X_train.align(X_valid, join='left', axis=1)\n",
    "X_train, X_test = X_train.align(X_test, join='left', axis=1)"
   ]
  },
  {
   "cell_type": "markdown",
   "id": "a06b04a2",
   "metadata": {
    "papermill": {
     "duration": 0.003811,
     "end_time": "2025-01-28T03:05:54.838583",
     "exception": false,
     "start_time": "2025-01-28T03:05:54.834772",
     "status": "completed"
    },
    "tags": []
   },
   "source": [
    "# Step 1: Build model\n",
    "\n",
    "### Part A\n",
    "\n",
    "In this step, you'll build and train your first model with gradient boosting.\n",
    "\n",
    "- Begin by setting `my_model_1` to an XGBoost model.  Use the [XGBRegressor](https://xgboost.readthedocs.io/en/latest/python/python_api.html#xgboost.XGBRegressor) class, and set the random seed to 0 (`random_state=0`).  **Leave all other parameters as default.**\n",
    "- Then, fit the model to the training data in `X_train` and `y_train`."
   ]
  },
  {
   "cell_type": "code",
   "execution_count": 3,
   "id": "6ad018e7",
   "metadata": {
    "execution": {
     "iopub.execute_input": "2025-01-28T03:05:54.847293Z",
     "iopub.status.busy": "2025-01-28T03:05:54.846970Z",
     "iopub.status.idle": "2025-01-28T03:05:55.259858Z",
     "shell.execute_reply": "2025-01-28T03:05:55.258619Z"
    },
    "papermill": {
     "duration": 0.41915,
     "end_time": "2025-01-28T03:05:55.261576",
     "exception": false,
     "start_time": "2025-01-28T03:05:54.842426",
     "status": "completed"
    },
    "tags": []
   },
   "outputs": [
    {
     "data": {
      "application/javascript": [
       "parent.postMessage({\"jupyterEvent\": \"custom.exercise_interaction\", \"data\": {\"outcomeType\": 1, \"valueTowardsCompletion\": 0.5, \"interactionType\": 1, \"questionType\": 2, \"questionId\": \"1.1_Model1A\", \"learnToolsVersion\": \"0.3.4\", \"failureMessage\": \"\", \"exceptionClass\": \"\", \"trace\": \"\"}}, \"*\")"
      ],
      "text/plain": [
       "<IPython.core.display.Javascript object>"
      ]
     },
     "metadata": {},
     "output_type": "display_data"
    },
    {
     "data": {
      "text/markdown": [
       "<span style=\"color:#33cc33\">Correct</span>"
      ],
      "text/plain": [
       "Correct"
      ]
     },
     "metadata": {},
     "output_type": "display_data"
    }
   ],
   "source": [
    "from xgboost import XGBRegressor\n",
    "\n",
    "# Define the model\n",
    "my_model_1 = XGBRegressor(random_state=0) # Your code here\n",
    "\n",
    "# Fit the model\n",
    "my_model_1.fit(X_train, y_train) # Your code here\n",
    "\n",
    "# Check your answer\n",
    "step_1.a.check()"
   ]
  },
  {
   "cell_type": "code",
   "execution_count": 4,
   "id": "bfe3879d",
   "metadata": {
    "execution": {
     "iopub.execute_input": "2025-01-28T03:05:55.270975Z",
     "iopub.status.busy": "2025-01-28T03:05:55.270662Z",
     "iopub.status.idle": "2025-01-28T03:05:55.274046Z",
     "shell.execute_reply": "2025-01-28T03:05:55.273171Z"
    },
    "papermill": {
     "duration": 0.009481,
     "end_time": "2025-01-28T03:05:55.275403",
     "exception": false,
     "start_time": "2025-01-28T03:05:55.265922",
     "status": "completed"
    },
    "tags": []
   },
   "outputs": [],
   "source": [
    "# Lines below will give you a hint or solution code\n",
    "#step_1.a.hint()\n",
    "#step_1.a.solution()"
   ]
  },
  {
   "cell_type": "markdown",
   "id": "ff3005f6",
   "metadata": {
    "papermill": {
     "duration": 0.003931,
     "end_time": "2025-01-28T03:05:55.283544",
     "exception": false,
     "start_time": "2025-01-28T03:05:55.279613",
     "status": "completed"
    },
    "tags": []
   },
   "source": [
    "### Part B\n",
    "\n",
    "Set `predictions_1` to the model's predictions for the validation data.  Recall that the validation features are stored in `X_valid`."
   ]
  },
  {
   "cell_type": "code",
   "execution_count": 5,
   "id": "3155f53d",
   "metadata": {
    "execution": {
     "iopub.execute_input": "2025-01-28T03:05:55.292555Z",
     "iopub.status.busy": "2025-01-28T03:05:55.292270Z",
     "iopub.status.idle": "2025-01-28T03:05:55.326227Z",
     "shell.execute_reply": "2025-01-28T03:05:55.325280Z"
    },
    "papermill": {
     "duration": 0.040114,
     "end_time": "2025-01-28T03:05:55.327690",
     "exception": false,
     "start_time": "2025-01-28T03:05:55.287576",
     "status": "completed"
    },
    "tags": []
   },
   "outputs": [
    {
     "data": {
      "application/javascript": [
       "parent.postMessage({\"jupyterEvent\": \"custom.exercise_interaction\", \"data\": {\"outcomeType\": 1, \"valueTowardsCompletion\": 0.5, \"interactionType\": 1, \"questionType\": 2, \"questionId\": \"1.2_Model1B\", \"learnToolsVersion\": \"0.3.4\", \"failureMessage\": \"\", \"exceptionClass\": \"\", \"trace\": \"\"}}, \"*\")"
      ],
      "text/plain": [
       "<IPython.core.display.Javascript object>"
      ]
     },
     "metadata": {},
     "output_type": "display_data"
    },
    {
     "data": {
      "text/markdown": [
       "<span style=\"color:#33cc33\">Correct</span>"
      ],
      "text/plain": [
       "Correct"
      ]
     },
     "metadata": {},
     "output_type": "display_data"
    }
   ],
   "source": [
    "from sklearn.metrics import mean_absolute_error\n",
    "\n",
    "# Get predictions\n",
    "predictions_1 = my_model_1.predict(X_valid) # Your code here\n",
    "\n",
    "# Check your answer\n",
    "step_1.b.check()"
   ]
  },
  {
   "cell_type": "code",
   "execution_count": 6,
   "id": "a4ba4815",
   "metadata": {
    "execution": {
     "iopub.execute_input": "2025-01-28T03:05:55.337523Z",
     "iopub.status.busy": "2025-01-28T03:05:55.337262Z",
     "iopub.status.idle": "2025-01-28T03:05:55.340246Z",
     "shell.execute_reply": "2025-01-28T03:05:55.339521Z"
    },
    "papermill": {
     "duration": 0.009365,
     "end_time": "2025-01-28T03:05:55.341675",
     "exception": false,
     "start_time": "2025-01-28T03:05:55.332310",
     "status": "completed"
    },
    "tags": []
   },
   "outputs": [],
   "source": [
    "# Lines below will give you a hint or solution code\n",
    "#step_1.b.hint()\n",
    "#step_1.b.solution()"
   ]
  },
  {
   "cell_type": "markdown",
   "id": "5e315a99",
   "metadata": {
    "papermill": {
     "duration": 0.004132,
     "end_time": "2025-01-28T03:05:55.350294",
     "exception": false,
     "start_time": "2025-01-28T03:05:55.346162",
     "status": "completed"
    },
    "tags": []
   },
   "source": [
    "### Part C\n",
    "\n",
    "Finally, use the `mean_absolute_error()` function to calculate the mean absolute error (MAE) corresponding to the predictions for the validation set.  Recall that the labels for the validation data are stored in `y_valid`."
   ]
  },
  {
   "cell_type": "code",
   "execution_count": 7,
   "id": "767e0593",
   "metadata": {
    "execution": {
     "iopub.execute_input": "2025-01-28T03:05:55.360138Z",
     "iopub.status.busy": "2025-01-28T03:05:55.359797Z",
     "iopub.status.idle": "2025-01-28T03:05:55.368685Z",
     "shell.execute_reply": "2025-01-28T03:05:55.367781Z"
    },
    "papermill": {
     "duration": 0.015587,
     "end_time": "2025-01-28T03:05:55.370279",
     "exception": false,
     "start_time": "2025-01-28T03:05:55.354692",
     "status": "completed"
    },
    "tags": []
   },
   "outputs": [
    {
     "name": "stdout",
     "output_type": "stream",
     "text": [
      "Mean Absolute Error: 18161.82412510702\n"
     ]
    },
    {
     "data": {
      "application/javascript": [
       "parent.postMessage({\"jupyterEvent\": \"custom.exercise_interaction\", \"data\": {\"outcomeType\": 1, \"valueTowardsCompletion\": 0.5, \"interactionType\": 1, \"questionType\": 2, \"questionId\": \"1.3_Model1C\", \"learnToolsVersion\": \"0.3.4\", \"failureMessage\": \"\", \"exceptionClass\": \"\", \"trace\": \"\"}}, \"*\")"
      ],
      "text/plain": [
       "<IPython.core.display.Javascript object>"
      ]
     },
     "metadata": {},
     "output_type": "display_data"
    },
    {
     "data": {
      "text/markdown": [
       "<span style=\"color:#33cc33\">Correct</span>"
      ],
      "text/plain": [
       "Correct"
      ]
     },
     "metadata": {},
     "output_type": "display_data"
    }
   ],
   "source": [
    "# Calculate MAE\n",
    "mae_1 = mean_absolute_error(predictions_1, y_valid) # Your code here\n",
    "\n",
    "# Uncomment to print MAE\n",
    "print(\"Mean Absolute Error:\" , mae_1)\n",
    "\n",
    "# Check your answer\n",
    "step_1.c.check()"
   ]
  },
  {
   "cell_type": "code",
   "execution_count": 8,
   "id": "3fd0419d",
   "metadata": {
    "execution": {
     "iopub.execute_input": "2025-01-28T03:05:55.380927Z",
     "iopub.status.busy": "2025-01-28T03:05:55.380643Z",
     "iopub.status.idle": "2025-01-28T03:05:55.383965Z",
     "shell.execute_reply": "2025-01-28T03:05:55.383180Z"
    },
    "papermill": {
     "duration": 0.010205,
     "end_time": "2025-01-28T03:05:55.385340",
     "exception": false,
     "start_time": "2025-01-28T03:05:55.375135",
     "status": "completed"
    },
    "tags": []
   },
   "outputs": [],
   "source": [
    "# Lines below will give you a hint or solution code\n",
    "#step_1.c.hint()\n",
    "#step_1.c.solution()"
   ]
  },
  {
   "cell_type": "markdown",
   "id": "a7f2bc54",
   "metadata": {
    "papermill": {
     "duration": 0.004607,
     "end_time": "2025-01-28T03:05:55.394861",
     "exception": false,
     "start_time": "2025-01-28T03:05:55.390254",
     "status": "completed"
    },
    "tags": []
   },
   "source": [
    "# Step 2: Improve the model\n",
    "\n",
    "Now that you've trained a default model as baseline, it's time to tinker with the parameters, to see if you can get better performance!\n",
    "- Begin by setting `my_model_2` to an XGBoost model, using the [XGBRegressor](https://xgboost.readthedocs.io/en/latest/python/python_api.html#xgboost.XGBRegressor) class.  Use what you learned in the previous tutorial to figure out how to change the default parameters (like `n_estimators` and `learning_rate`) to get better results.\n",
    "- Then, fit the model to the training data in `X_train` and `y_train`.\n",
    "- Set `predictions_2` to the model's predictions for the validation data.  Recall that the validation features are stored in `X_valid`.\n",
    "- Finally, use the `mean_absolute_error()` function to calculate the mean absolute error (MAE) corresponding to the predictions on the validation set.  Recall that the labels for the validation data are stored in `y_valid`.\n",
    "\n",
    "In order for this step to be marked correct, your model in `my_model_2` must attain lower MAE than the model in `my_model_1`. "
   ]
  },
  {
   "cell_type": "code",
   "execution_count": 9,
   "id": "9720c912",
   "metadata": {
    "execution": {
     "iopub.execute_input": "2025-01-28T03:05:55.405431Z",
     "iopub.status.busy": "2025-01-28T03:05:55.405122Z",
     "iopub.status.idle": "2025-01-28T03:05:59.046146Z",
     "shell.execute_reply": "2025-01-28T03:05:59.045322Z"
    },
    "papermill": {
     "duration": 3.648053,
     "end_time": "2025-01-28T03:05:59.047624",
     "exception": false,
     "start_time": "2025-01-28T03:05:55.399571",
     "status": "completed"
    },
    "tags": []
   },
   "outputs": [
    {
     "name": "stdout",
     "output_type": "stream",
     "text": [
      "Mean Absolute Error: 17224.27947078339\n"
     ]
    },
    {
     "data": {
      "application/javascript": [
       "parent.postMessage({\"jupyterEvent\": \"custom.exercise_interaction\", \"data\": {\"outcomeType\": 1, \"valueTowardsCompletion\": 0.5, \"interactionType\": 1, \"questionType\": 2, \"questionId\": \"2_Model2\", \"learnToolsVersion\": \"0.3.4\", \"failureMessage\": \"\", \"exceptionClass\": \"\", \"trace\": \"\"}}, \"*\")"
      ],
      "text/plain": [
       "<IPython.core.display.Javascript object>"
      ]
     },
     "metadata": {},
     "output_type": "display_data"
    },
    {
     "data": {
      "text/markdown": [
       "<span style=\"color:#33cc33\">Correct</span>"
      ],
      "text/plain": [
       "Correct"
      ]
     },
     "metadata": {},
     "output_type": "display_data"
    }
   ],
   "source": [
    "# Define the model\n",
    "my_model_2 = XGBRegressor(random_state=0, n_estimators=1000, learning_rate=0.05) # Your code here\n",
    "\n",
    "# Fit the model\n",
    "my_model_2.fit(X_train, y_train) # Your code here\n",
    "\n",
    "# Get predictions\n",
    "predictions_2 = my_model_2.predict(X_valid) # Your code here\n",
    "\n",
    "# Calculate MAE\n",
    "mae_2 = mean_absolute_error(predictions_2, y_valid) # Your code here\n",
    "\n",
    "# Uncomment to print MAE\n",
    "print(\"Mean Absolute Error:\" , mae_2)\n",
    "\n",
    "# Check your answer\n",
    "step_2.check()"
   ]
  },
  {
   "cell_type": "code",
   "execution_count": 10,
   "id": "b6ea5b40",
   "metadata": {
    "execution": {
     "iopub.execute_input": "2025-01-28T03:05:59.059150Z",
     "iopub.status.busy": "2025-01-28T03:05:59.058809Z",
     "iopub.status.idle": "2025-01-28T03:05:59.062197Z",
     "shell.execute_reply": "2025-01-28T03:05:59.061413Z"
    },
    "papermill": {
     "duration": 0.010818,
     "end_time": "2025-01-28T03:05:59.063600",
     "exception": false,
     "start_time": "2025-01-28T03:05:59.052782",
     "status": "completed"
    },
    "tags": []
   },
   "outputs": [],
   "source": [
    "# Lines below will give you a hint or solution code\n",
    "#step_2.hint()\n",
    "#step_2.solution()"
   ]
  },
  {
   "cell_type": "markdown",
   "id": "54a8411f",
   "metadata": {
    "papermill": {
     "duration": 0.004718,
     "end_time": "2025-01-28T03:05:59.073397",
     "exception": false,
     "start_time": "2025-01-28T03:05:59.068679",
     "status": "completed"
    },
    "tags": []
   },
   "source": [
    "# Step 3: Break the model\n",
    "\n",
    "In this step, you will create a model that performs worse than the original model in Step 1.  This will help you to develop your intuition for how to set parameters.  You might even find that you accidentally get better performance, which is ultimately a nice problem to have and a valuable learning experience!\n",
    "- Begin by setting `my_model_3` to an XGBoost model, using the [XGBRegressor](https://xgboost.readthedocs.io/en/latest/python/python_api.html#xgboost.XGBRegressor) class.  Use what you learned in the previous tutorial to figure out how to change the default parameters (like `n_estimators` and `learning_rate`) to design a model to get high MAE.\n",
    "- Then, fit the model to the training data in `X_train` and `y_train`.\n",
    "- Set `predictions_3` to the model's predictions for the validation data.  Recall that the validation features are stored in `X_valid`.\n",
    "- Finally, use the `mean_absolute_error()` function to calculate the mean absolute error (MAE) corresponding to the predictions on the validation set.  Recall that the labels for the validation data are stored in `y_valid`.\n",
    "\n",
    "In order for this step to be marked correct, your model in `my_model_3` must attain higher MAE than the model in `my_model_1`. "
   ]
  },
  {
   "cell_type": "code",
   "execution_count": 11,
   "id": "640d5c95",
   "metadata": {
    "execution": {
     "iopub.execute_input": "2025-01-28T03:05:59.084353Z",
     "iopub.status.busy": "2025-01-28T03:05:59.084045Z",
     "iopub.status.idle": "2025-01-28T03:05:59.221704Z",
     "shell.execute_reply": "2025-01-28T03:05:59.220448Z"
    },
    "papermill": {
     "duration": 0.145728,
     "end_time": "2025-01-28T03:05:59.224086",
     "exception": false,
     "start_time": "2025-01-28T03:05:59.078358",
     "status": "completed"
    },
    "tags": []
   },
   "outputs": [
    {
     "name": "stdout",
     "output_type": "stream",
     "text": [
      "Mean Absolute Error: 38339.35846532534\n"
     ]
    },
    {
     "data": {
      "application/javascript": [
       "parent.postMessage({\"jupyterEvent\": \"custom.exercise_interaction\", \"data\": {\"outcomeType\": 1, \"valueTowardsCompletion\": 0.5, \"interactionType\": 1, \"questionType\": 2, \"questionId\": \"3_Model3\", \"learnToolsVersion\": \"0.3.4\", \"failureMessage\": \"\", \"exceptionClass\": \"\", \"trace\": \"\"}}, \"*\")"
      ],
      "text/plain": [
       "<IPython.core.display.Javascript object>"
      ]
     },
     "metadata": {},
     "output_type": "display_data"
    },
    {
     "data": {
      "text/markdown": [
       "<span style=\"color:#33cc33\">Correct</span>"
      ],
      "text/plain": [
       "Correct"
      ]
     },
     "metadata": {},
     "output_type": "display_data"
    }
   ],
   "source": [
    "# Define the model\n",
    "my_model_3 = XGBRegressor(random_state=0, n_estimators=10, learning_rate=0.05)\n",
    "\n",
    "# Fit the model\n",
    "my_model_3.fit(X_train, y_train) # Your code here\n",
    "\n",
    "# Get predictions\n",
    "predictions_3 = my_model_3.predict(X_valid)\n",
    "\n",
    "# Calculate MAE\n",
    "mae_3 = mean_absolute_error(predictions_3, y_valid)\n",
    "\n",
    "# Uncomment to print MAE\n",
    "print(\"Mean Absolute Error:\" , mae_3)\n",
    "\n",
    "# Check your answer\n",
    "step_3.check()"
   ]
  },
  {
   "cell_type": "code",
   "execution_count": 12,
   "id": "5c045d18",
   "metadata": {
    "execution": {
     "iopub.execute_input": "2025-01-28T03:05:59.235962Z",
     "iopub.status.busy": "2025-01-28T03:05:59.235651Z",
     "iopub.status.idle": "2025-01-28T03:05:59.238884Z",
     "shell.execute_reply": "2025-01-28T03:05:59.238170Z"
    },
    "papermill": {
     "duration": 0.010753,
     "end_time": "2025-01-28T03:05:59.240326",
     "exception": false,
     "start_time": "2025-01-28T03:05:59.229573",
     "status": "completed"
    },
    "tags": []
   },
   "outputs": [],
   "source": [
    "# Lines below will give you a hint or solution code\n",
    "#step_3.hint()\n",
    "#step_3.solution()"
   ]
  },
  {
   "cell_type": "markdown",
   "id": "30c8a2af",
   "metadata": {
    "papermill": {
     "duration": 0.004918,
     "end_time": "2025-01-28T03:05:59.250449",
     "exception": false,
     "start_time": "2025-01-28T03:05:59.245531",
     "status": "completed"
    },
    "tags": []
   },
   "source": [
    "# Keep going\n",
    "\n",
    "Continue to learn about **[data leakage](https://www.kaggle.com/alexisbcook/data-leakage)**.  This is an important issue for a data scientist to understand, and it has the potential to ruin your models in subtle and dangerous ways!"
   ]
  },
  {
   "cell_type": "markdown",
   "id": "bc4a4906",
   "metadata": {
    "papermill": {
     "duration": 0.005203,
     "end_time": "2025-01-28T03:05:59.260753",
     "exception": false,
     "start_time": "2025-01-28T03:05:59.255550",
     "status": "completed"
    },
    "tags": []
   },
   "source": [
    "---\n",
    "\n",
    "\n",
    "\n",
    "\n",
    "*Have questions or comments? Visit the [course discussion forum](https://www.kaggle.com/learn/intermediate-machine-learning/discussion) to chat with other learners.*"
   ]
  }
 ],
 "metadata": {
  "kaggle": {
   "accelerator": "none",
   "dataSources": [
    {
     "databundleVersionId": 111096,
     "sourceId": 10211,
     "sourceType": "competition"
    }
   ],
   "isGpuEnabled": false,
   "isInternetEnabled": false,
   "language": "python",
   "sourceType": "notebook"
  },
  "kernelspec": {
   "display_name": "Python 3",
   "language": "python",
   "name": "python3"
  },
  "language_info": {
   "codemirror_mode": {
    "name": "ipython",
    "version": 3
   },
   "file_extension": ".py",
   "mimetype": "text/x-python",
   "name": "python",
   "nbconvert_exporter": "python",
   "pygments_lexer": "ipython3",
   "version": "3.10.12"
  },
  "papermill": {
   "default_parameters": {},
   "duration": 10.722028,
   "end_time": "2025-01-28T03:05:59.884236",
   "environment_variables": {},
   "exception": null,
   "input_path": "__notebook__.ipynb",
   "output_path": "__notebook__.ipynb",
   "parameters": {},
   "start_time": "2025-01-28T03:05:49.162208",
   "version": "2.6.0"
  }
 },
 "nbformat": 4,
 "nbformat_minor": 5
}
