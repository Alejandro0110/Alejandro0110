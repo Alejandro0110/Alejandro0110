{
 "cells": [
  {
   "cell_type": "markdown",
   "id": "c68040f5",
   "metadata": {
    "papermill": {
     "duration": 0.005136,
     "end_time": "2025-01-28T02:19:12.319942",
     "exception": false,
     "start_time": "2025-01-28T02:19:12.314806",
     "status": "completed"
    },
    "tags": []
   },
   "source": [
    "**This notebook is an exercise in the [Introduction to Machine Learning](https://www.kaggle.com/learn/intro-to-machine-learning) course.  You can reference the tutorial at [this link](https://www.kaggle.com/dansbecker/your-first-machine-learning-model).**\n",
    "\n",
    "---\n"
   ]
  },
  {
   "cell_type": "markdown",
   "id": "08628e97",
   "metadata": {
    "papermill": {
     "duration": 0.004009,
     "end_time": "2025-01-28T02:19:12.328576",
     "exception": false,
     "start_time": "2025-01-28T02:19:12.324567",
     "status": "completed"
    },
    "tags": []
   },
   "source": [
    "## Recap\n",
    "So far, you have loaded your data and reviewed it with the following code. Run this cell to set up your coding environment where the previous step left off."
   ]
  },
  {
   "cell_type": "code",
   "execution_count": 1,
   "id": "522135f0",
   "metadata": {
    "execution": {
     "iopub.execute_input": "2025-01-28T02:19:12.338702Z",
     "iopub.status.busy": "2025-01-28T02:19:12.338207Z",
     "iopub.status.idle": "2025-01-28T02:19:15.114465Z",
     "shell.execute_reply": "2025-01-28T02:19:15.113200Z"
    },
    "papermill": {
     "duration": 2.783623,
     "end_time": "2025-01-28T02:19:15.116498",
     "exception": false,
     "start_time": "2025-01-28T02:19:12.332875",
     "status": "completed"
    },
    "tags": []
   },
   "outputs": [
    {
     "name": "stdout",
     "output_type": "stream",
     "text": [
      "Setup Complete\n"
     ]
    }
   ],
   "source": [
    "# Code you have previously used to load data\n",
    "import pandas as pd\n",
    "\n",
    "# Path of the file to read\n",
    "iowa_file_path = '../input/home-data-for-ml-course/train.csv'\n",
    "\n",
    "home_data = pd.read_csv(iowa_file_path)\n",
    "\n",
    "# Set up code checking\n",
    "from learntools.core import binder\n",
    "binder.bind(globals())\n",
    "from learntools.machine_learning.ex3 import *\n",
    "\n",
    "print(\"Setup Complete\")"
   ]
  },
  {
   "cell_type": "markdown",
   "id": "9a35f582",
   "metadata": {
    "papermill": {
     "duration": 0.004303,
     "end_time": "2025-01-28T02:19:15.125639",
     "exception": false,
     "start_time": "2025-01-28T02:19:15.121336",
     "status": "completed"
    },
    "tags": []
   },
   "source": [
    "# Exercises\n",
    "\n",
    "## Step 1: Specify Prediction Target\n",
    "Select the target variable, which corresponds to the sales price. Save this to a new variable called `y`. You'll need to print a list of the columns to find the name of the column you need.\n"
   ]
  },
  {
   "cell_type": "code",
   "execution_count": 2,
   "id": "d6240db3",
   "metadata": {
    "execution": {
     "iopub.execute_input": "2025-01-28T02:19:15.135510Z",
     "iopub.status.busy": "2025-01-28T02:19:15.135031Z",
     "iopub.status.idle": "2025-01-28T02:19:15.142463Z",
     "shell.execute_reply": "2025-01-28T02:19:15.141181Z"
    },
    "papermill": {
     "duration": 0.014147,
     "end_time": "2025-01-28T02:19:15.144092",
     "exception": false,
     "start_time": "2025-01-28T02:19:15.129945",
     "status": "completed"
    },
    "tags": []
   },
   "outputs": [
    {
     "name": "stdout",
     "output_type": "stream",
     "text": [
      "Index(['Id', 'MSSubClass', 'MSZoning', 'LotFrontage', 'LotArea', 'Street',\n",
      "       'Alley', 'LotShape', 'LandContour', 'Utilities', 'LotConfig',\n",
      "       'LandSlope', 'Neighborhood', 'Condition1', 'Condition2', 'BldgType',\n",
      "       'HouseStyle', 'OverallQual', 'OverallCond', 'YearBuilt', 'YearRemodAdd',\n",
      "       'RoofStyle', 'RoofMatl', 'Exterior1st', 'Exterior2nd', 'MasVnrType',\n",
      "       'MasVnrArea', 'ExterQual', 'ExterCond', 'Foundation', 'BsmtQual',\n",
      "       'BsmtCond', 'BsmtExposure', 'BsmtFinType1', 'BsmtFinSF1',\n",
      "       'BsmtFinType2', 'BsmtFinSF2', 'BsmtUnfSF', 'TotalBsmtSF', 'Heating',\n",
      "       'HeatingQC', 'CentralAir', 'Electrical', '1stFlrSF', '2ndFlrSF',\n",
      "       'LowQualFinSF', 'GrLivArea', 'BsmtFullBath', 'BsmtHalfBath', 'FullBath',\n",
      "       'HalfBath', 'BedroomAbvGr', 'KitchenAbvGr', 'KitchenQual',\n",
      "       'TotRmsAbvGrd', 'Functional', 'Fireplaces', 'FireplaceQu', 'GarageType',\n",
      "       'GarageYrBlt', 'GarageFinish', 'GarageCars', 'GarageArea', 'GarageQual',\n",
      "       'GarageCond', 'PavedDrive', 'WoodDeckSF', 'OpenPorchSF',\n",
      "       'EnclosedPorch', '3SsnPorch', 'ScreenPorch', 'PoolArea', 'PoolQC',\n",
      "       'Fence', 'MiscFeature', 'MiscVal', 'MoSold', 'YrSold', 'SaleType',\n",
      "       'SaleCondition', 'SalePrice'],\n",
      "      dtype='object')\n"
     ]
    }
   ],
   "source": [
    "# print the list of columns in the dataset to find the name of the prediction target\n",
    "print(home_data.columns)"
   ]
  },
  {
   "cell_type": "code",
   "execution_count": 3,
   "id": "6e3a499d",
   "metadata": {
    "execution": {
     "iopub.execute_input": "2025-01-28T02:19:15.154422Z",
     "iopub.status.busy": "2025-01-28T02:19:15.154103Z",
     "iopub.status.idle": "2025-01-28T02:19:15.168960Z",
     "shell.execute_reply": "2025-01-28T02:19:15.167846Z"
    },
    "papermill": {
     "duration": 0.021605,
     "end_time": "2025-01-28T02:19:15.170446",
     "exception": false,
     "start_time": "2025-01-28T02:19:15.148841",
     "status": "completed"
    },
    "tags": []
   },
   "outputs": [
    {
     "data": {
      "application/javascript": [
       "parent.postMessage({\"jupyterEvent\": \"custom.exercise_interaction\", \"data\": {\"outcomeType\": 1, \"valueTowardsCompletion\": 0.25, \"interactionType\": 1, \"questionType\": 2, \"questionId\": \"1_SetTarget\", \"learnToolsVersion\": \"0.3.4\", \"failureMessage\": \"\", \"exceptionClass\": \"\", \"trace\": \"\"}}, \"*\")"
      ],
      "text/plain": [
       "<IPython.core.display.Javascript object>"
      ]
     },
     "metadata": {},
     "output_type": "display_data"
    },
    {
     "data": {
      "text/markdown": [
       "<span style=\"color:#33cc33\">Correct</span>"
      ],
      "text/plain": [
       "Correct"
      ]
     },
     "metadata": {},
     "output_type": "display_data"
    }
   ],
   "source": [
    "y = home_data.SalePrice\n",
    "\n",
    "# Check your answer\n",
    "step_1.check()"
   ]
  },
  {
   "cell_type": "code",
   "execution_count": 4,
   "id": "43b839da",
   "metadata": {
    "execution": {
     "iopub.execute_input": "2025-01-28T02:19:15.181235Z",
     "iopub.status.busy": "2025-01-28T02:19:15.180866Z",
     "iopub.status.idle": "2025-01-28T02:19:15.185135Z",
     "shell.execute_reply": "2025-01-28T02:19:15.183886Z"
    },
    "papermill": {
     "duration": 0.011756,
     "end_time": "2025-01-28T02:19:15.186921",
     "exception": false,
     "start_time": "2025-01-28T02:19:15.175165",
     "status": "completed"
    },
    "tags": []
   },
   "outputs": [],
   "source": [
    "# The lines below will show you a hint or the solution.\n",
    "# step_1.hint() \n",
    "# step_1.solution()"
   ]
  },
  {
   "cell_type": "markdown",
   "id": "053a4dad",
   "metadata": {
    "papermill": {
     "duration": 0.004491,
     "end_time": "2025-01-28T02:19:15.196538",
     "exception": false,
     "start_time": "2025-01-28T02:19:15.192047",
     "status": "completed"
    },
    "tags": []
   },
   "source": [
    "## Step 2: Create X\n",
    "Now you will create a DataFrame called `X` holding the predictive features.\n",
    "\n",
    "Since you want only some columns from the original data, you'll first create a list with the names of the columns you want in `X`.\n",
    "\n",
    "You'll use just the following columns in the list (you can copy and paste the whole list to save some typing, though you'll still need to add quotes):\n",
    "  * LotArea\n",
    "  * YearBuilt\n",
    "  * 1stFlrSF\n",
    "  * 2ndFlrSF\n",
    "  * FullBath\n",
    "  * BedroomAbvGr\n",
    "  * TotRmsAbvGrd\n",
    "\n",
    "After you've created that list of features, use it to create the DataFrame that you'll use to fit the model."
   ]
  },
  {
   "cell_type": "code",
   "execution_count": 5,
   "id": "aea15218",
   "metadata": {
    "execution": {
     "iopub.execute_input": "2025-01-28T02:19:15.207379Z",
     "iopub.status.busy": "2025-01-28T02:19:15.207020Z",
     "iopub.status.idle": "2025-01-28T02:19:15.220556Z",
     "shell.execute_reply": "2025-01-28T02:19:15.219500Z"
    },
    "papermill": {
     "duration": 0.020836,
     "end_time": "2025-01-28T02:19:15.222211",
     "exception": false,
     "start_time": "2025-01-28T02:19:15.201375",
     "status": "completed"
    },
    "tags": []
   },
   "outputs": [
    {
     "data": {
      "application/javascript": [
       "parent.postMessage({\"jupyterEvent\": \"custom.exercise_interaction\", \"data\": {\"outcomeType\": 1, \"valueTowardsCompletion\": 0.25, \"interactionType\": 1, \"questionType\": 2, \"questionId\": \"2_SelectPredictionData\", \"learnToolsVersion\": \"0.3.4\", \"failureMessage\": \"\", \"exceptionClass\": \"\", \"trace\": \"\"}}, \"*\")"
      ],
      "text/plain": [
       "<IPython.core.display.Javascript object>"
      ]
     },
     "metadata": {},
     "output_type": "display_data"
    },
    {
     "data": {
      "text/markdown": [
       "<span style=\"color:#33cc33\">Correct</span>"
      ],
      "text/plain": [
       "Correct"
      ]
     },
     "metadata": {},
     "output_type": "display_data"
    }
   ],
   "source": [
    "# Create the list of features below\n",
    "feature_names = ['LotArea', 'YearBuilt', '1stFlrSF', '2ndFlrSF', 'FullBath', 'BedroomAbvGr', 'TotRmsAbvGrd']\n",
    "\n",
    "# Select data corresponding to features in feature_names\n",
    "X = home_data[feature_names]\n",
    "\n",
    "# Check your answer\n",
    "step_2.check()"
   ]
  },
  {
   "cell_type": "code",
   "execution_count": 6,
   "id": "167dff4a",
   "metadata": {
    "execution": {
     "iopub.execute_input": "2025-01-28T02:19:15.233317Z",
     "iopub.status.busy": "2025-01-28T02:19:15.232965Z",
     "iopub.status.idle": "2025-01-28T02:19:15.236778Z",
     "shell.execute_reply": "2025-01-28T02:19:15.235722Z"
    },
    "papermill": {
     "duration": 0.01124,
     "end_time": "2025-01-28T02:19:15.238367",
     "exception": false,
     "start_time": "2025-01-28T02:19:15.227127",
     "status": "completed"
    },
    "tags": []
   },
   "outputs": [],
   "source": [
    "# step_2.hint()\n",
    "# step_2.solution()"
   ]
  },
  {
   "cell_type": "markdown",
   "id": "517abbb2",
   "metadata": {
    "papermill": {
     "duration": 0.004589,
     "end_time": "2025-01-28T02:19:15.247995",
     "exception": false,
     "start_time": "2025-01-28T02:19:15.243406",
     "status": "completed"
    },
    "tags": []
   },
   "source": [
    "## Review Data\n",
    "Before building a model, take a quick look at **X** to verify it looks sensible"
   ]
  },
  {
   "cell_type": "code",
   "execution_count": 7,
   "id": "3f25f8c6",
   "metadata": {
    "execution": {
     "iopub.execute_input": "2025-01-28T02:19:15.258977Z",
     "iopub.status.busy": "2025-01-28T02:19:15.258570Z",
     "iopub.status.idle": "2025-01-28T02:19:15.275585Z",
     "shell.execute_reply": "2025-01-28T02:19:15.274217Z"
    },
    "papermill": {
     "duration": 0.024451,
     "end_time": "2025-01-28T02:19:15.277280",
     "exception": false,
     "start_time": "2025-01-28T02:19:15.252829",
     "status": "completed"
    },
    "tags": []
   },
   "outputs": [
    {
     "name": "stdout",
     "output_type": "stream",
     "text": [
      "      LotArea  YearBuilt  1stFlrSF  2ndFlrSF  FullBath  BedroomAbvGr  \\\n",
      "0        8450       2003       856       854         2             3   \n",
      "1        9600       1976      1262         0         2             3   \n",
      "2       11250       2001       920       866         2             3   \n",
      "3        9550       1915       961       756         1             3   \n",
      "4       14260       2000      1145      1053         2             4   \n",
      "...       ...        ...       ...       ...       ...           ...   \n",
      "1455     7917       1999       953       694         2             3   \n",
      "1456    13175       1978      2073         0         2             3   \n",
      "1457     9042       1941      1188      1152         2             4   \n",
      "1458     9717       1950      1078         0         1             2   \n",
      "1459     9937       1965      1256         0         1             3   \n",
      "\n",
      "      TotRmsAbvGrd  \n",
      "0                8  \n",
      "1                6  \n",
      "2                6  \n",
      "3                7  \n",
      "4                9  \n",
      "...            ...  \n",
      "1455             7  \n",
      "1456             7  \n",
      "1457             9  \n",
      "1458             5  \n",
      "1459             6  \n",
      "\n",
      "[1460 rows x 7 columns]\n",
      "   LotArea  YearBuilt  1stFlrSF  2ndFlrSF  FullBath  BedroomAbvGr  \\\n",
      "0     8450       2003       856       854         2             3   \n",
      "1     9600       1976      1262         0         2             3   \n",
      "2    11250       2001       920       866         2             3   \n",
      "3     9550       1915       961       756         1             3   \n",
      "4    14260       2000      1145      1053         2             4   \n",
      "\n",
      "   TotRmsAbvGrd  \n",
      "0             8  \n",
      "1             6  \n",
      "2             6  \n",
      "3             7  \n",
      "4             9  \n"
     ]
    }
   ],
   "source": [
    "# Review data\n",
    "# print description or statistics from X\n",
    "print(X)\n",
    "\n",
    "# print the top few lines\n",
    "print(X.head())"
   ]
  },
  {
   "cell_type": "markdown",
   "id": "b66fd716",
   "metadata": {
    "papermill": {
     "duration": 0.004749,
     "end_time": "2025-01-28T02:19:15.287280",
     "exception": false,
     "start_time": "2025-01-28T02:19:15.282531",
     "status": "completed"
    },
    "tags": []
   },
   "source": [
    "## Step 3: Specify and Fit Model\n",
    "Create a `DecisionTreeRegressor` and save it iowa_model. Ensure you've done the relevant import from sklearn to run this command.\n",
    "\n",
    "Then fit the model you just created using the data in `X` and `y` that you saved above."
   ]
  },
  {
   "cell_type": "code",
   "execution_count": 8,
   "id": "b10a8992",
   "metadata": {
    "execution": {
     "iopub.execute_input": "2025-01-28T02:19:15.298404Z",
     "iopub.status.busy": "2025-01-28T02:19:15.298081Z",
     "iopub.status.idle": "2025-01-28T02:19:15.317775Z",
     "shell.execute_reply": "2025-01-28T02:19:15.316733Z"
    },
    "papermill": {
     "duration": 0.027181,
     "end_time": "2025-01-28T02:19:15.319360",
     "exception": false,
     "start_time": "2025-01-28T02:19:15.292179",
     "status": "completed"
    },
    "tags": []
   },
   "outputs": [
    {
     "data": {
      "application/javascript": [
       "parent.postMessage({\"jupyterEvent\": \"custom.exercise_interaction\", \"data\": {\"outcomeType\": 1, \"valueTowardsCompletion\": 0.25, \"interactionType\": 1, \"questionType\": 2, \"questionId\": \"3_CreateModel\", \"learnToolsVersion\": \"0.3.4\", \"failureMessage\": \"\", \"exceptionClass\": \"\", \"trace\": \"\"}}, \"*\")"
      ],
      "text/plain": [
       "<IPython.core.display.Javascript object>"
      ]
     },
     "metadata": {},
     "output_type": "display_data"
    },
    {
     "data": {
      "text/markdown": [
       "<span style=\"color:#33cc33\">Correct</span>"
      ],
      "text/plain": [
       "Correct"
      ]
     },
     "metadata": {},
     "output_type": "display_data"
    }
   ],
   "source": [
    "from sklearn.tree import DecisionTreeRegressor\n",
    "#specify the model. \n",
    "#For model reproducibility, set a numeric value for random_state when specifying the model\n",
    "iowa_model = DecisionTreeRegressor(random_state=1)\n",
    "\n",
    "# Fit the model\n",
    "iowa_model.fit(X, y)\n",
    "\n",
    "# Check your answer\n",
    "step_3.check()"
   ]
  },
  {
   "cell_type": "code",
   "execution_count": 9,
   "id": "d04694e5",
   "metadata": {
    "execution": {
     "iopub.execute_input": "2025-01-28T02:19:15.331113Z",
     "iopub.status.busy": "2025-01-28T02:19:15.330741Z",
     "iopub.status.idle": "2025-01-28T02:19:15.334495Z",
     "shell.execute_reply": "2025-01-28T02:19:15.333467Z"
    },
    "papermill": {
     "duration": 0.011471,
     "end_time": "2025-01-28T02:19:15.336194",
     "exception": false,
     "start_time": "2025-01-28T02:19:15.324723",
     "status": "completed"
    },
    "tags": []
   },
   "outputs": [],
   "source": [
    "# step_3.hint()\n",
    "# step_3.solution()"
   ]
  },
  {
   "cell_type": "markdown",
   "id": "d281f582",
   "metadata": {
    "papermill": {
     "duration": 0.005048,
     "end_time": "2025-01-28T02:19:15.346779",
     "exception": false,
     "start_time": "2025-01-28T02:19:15.341731",
     "status": "completed"
    },
    "tags": []
   },
   "source": [
    "## Step 4: Make Predictions\n",
    "Make predictions with the model's `predict` command using `X` as the data. Save the results to a variable called `predictions`."
   ]
  },
  {
   "cell_type": "code",
   "execution_count": 10,
   "id": "cd3fee6b",
   "metadata": {
    "execution": {
     "iopub.execute_input": "2025-01-28T02:19:15.358507Z",
     "iopub.status.busy": "2025-01-28T02:19:15.358178Z",
     "iopub.status.idle": "2025-01-28T02:19:15.369772Z",
     "shell.execute_reply": "2025-01-28T02:19:15.368863Z"
    },
    "papermill": {
     "duration": 0.019255,
     "end_time": "2025-01-28T02:19:15.371273",
     "exception": false,
     "start_time": "2025-01-28T02:19:15.352018",
     "status": "completed"
    },
    "tags": []
   },
   "outputs": [
    {
     "name": "stdout",
     "output_type": "stream",
     "text": [
      "[208500. 181500. 223500. ... 266500. 142125. 147500.]\n"
     ]
    },
    {
     "data": {
      "application/javascript": [
       "parent.postMessage({\"jupyterEvent\": \"custom.exercise_interaction\", \"data\": {\"outcomeType\": 1, \"valueTowardsCompletion\": 0.25, \"interactionType\": 1, \"questionType\": 2, \"questionId\": \"4_MakePredictions\", \"learnToolsVersion\": \"0.3.4\", \"failureMessage\": \"\", \"exceptionClass\": \"\", \"trace\": \"\"}}, \"*\")"
      ],
      "text/plain": [
       "<IPython.core.display.Javascript object>"
      ]
     },
     "metadata": {},
     "output_type": "display_data"
    },
    {
     "data": {
      "text/markdown": [
       "<span style=\"color:#33cc33\">Correct</span>"
      ],
      "text/plain": [
       "Correct"
      ]
     },
     "metadata": {},
     "output_type": "display_data"
    }
   ],
   "source": [
    "predictions = iowa_model.predict(X)\n",
    "print(predictions)\n",
    "\n",
    "# Check your answer\n",
    "step_4.check()"
   ]
  },
  {
   "cell_type": "code",
   "execution_count": 11,
   "id": "45befdd9",
   "metadata": {
    "execution": {
     "iopub.execute_input": "2025-01-28T02:19:15.383515Z",
     "iopub.status.busy": "2025-01-28T02:19:15.383197Z",
     "iopub.status.idle": "2025-01-28T02:19:15.386816Z",
     "shell.execute_reply": "2025-01-28T02:19:15.385926Z"
    },
    "papermill": {
     "duration": 0.011296,
     "end_time": "2025-01-28T02:19:15.388211",
     "exception": false,
     "start_time": "2025-01-28T02:19:15.376915",
     "status": "completed"
    },
    "tags": []
   },
   "outputs": [],
   "source": [
    "# step_4.hint()\n",
    "# step_4.solution()"
   ]
  },
  {
   "cell_type": "markdown",
   "id": "ef103084",
   "metadata": {
    "papermill": {
     "duration": 0.00515,
     "end_time": "2025-01-28T02:19:15.398836",
     "exception": false,
     "start_time": "2025-01-28T02:19:15.393686",
     "status": "completed"
    },
    "tags": []
   },
   "source": [
    "## Think About Your Results\n",
    "\n",
    "Use the `head` method to compare the top few predictions to the actual home values (in `y`) for those same homes. Anything surprising?\n"
   ]
  },
  {
   "cell_type": "code",
   "execution_count": 12,
   "id": "1cde1b76",
   "metadata": {
    "execution": {
     "iopub.execute_input": "2025-01-28T02:19:15.410980Z",
     "iopub.status.busy": "2025-01-28T02:19:15.410524Z",
     "iopub.status.idle": "2025-01-28T02:19:15.414417Z",
     "shell.execute_reply": "2025-01-28T02:19:15.413530Z"
    },
    "papermill": {
     "duration": 0.011735,
     "end_time": "2025-01-28T02:19:15.416060",
     "exception": false,
     "start_time": "2025-01-28T02:19:15.404325",
     "status": "completed"
    },
    "tags": []
   },
   "outputs": [],
   "source": [
    "# You can write code in this cell\n"
   ]
  },
  {
   "cell_type": "markdown",
   "id": "3c65f2b1",
   "metadata": {
    "papermill": {
     "duration": 0.005058,
     "end_time": "2025-01-28T02:19:15.426517",
     "exception": false,
     "start_time": "2025-01-28T02:19:15.421459",
     "status": "completed"
    },
    "tags": []
   },
   "source": [
    "It's natural to ask how accurate the model's predictions will be and how you can improve that. That will be you're next step.\n",
    "\n",
    "# Keep Going\n",
    "\n",
    "You are ready for **[Model Validation](https://www.kaggle.com/dansbecker/model-validation).**\n"
   ]
  },
  {
   "cell_type": "markdown",
   "id": "de326001",
   "metadata": {
    "papermill": {
     "duration": 0.005289,
     "end_time": "2025-01-28T02:19:15.437152",
     "exception": false,
     "start_time": "2025-01-28T02:19:15.431863",
     "status": "completed"
    },
    "tags": []
   },
   "source": [
    "---\n",
    "\n",
    "\n",
    "\n",
    "\n",
    "*Have questions or comments? Visit the [course discussion forum](https://www.kaggle.com/learn/intro-to-machine-learning/discussion) to chat with other learners.*"
   ]
  }
 ],
 "metadata": {
  "kaggle": {
   "accelerator": "none",
   "dataSources": [
    {
     "databundleVersionId": 111096,
     "sourceId": 10211,
     "sourceType": "competition"
    },
    {
     "datasetId": 11167,
     "sourceId": 15520,
     "sourceType": "datasetVersion"
    },
    {
     "datasetId": 2709,
     "sourceId": 38454,
     "sourceType": "datasetVersion"
    }
   ],
   "isGpuEnabled": false,
   "isInternetEnabled": false,
   "language": "python",
   "sourceType": "notebook"
  },
  "kernelspec": {
   "display_name": "Python 3",
   "language": "python",
   "name": "python3"
  },
  "language_info": {
   "codemirror_mode": {
    "name": "ipython",
    "version": 3
   },
   "file_extension": ".py",
   "mimetype": "text/x-python",
   "name": "python",
   "nbconvert_exporter": "python",
   "pygments_lexer": "ipython3",
   "version": "3.10.12"
  },
  "papermill": {
   "default_parameters": {},
   "duration": 6.625146,
   "end_time": "2025-01-28T02:19:16.163415",
   "environment_variables": {},
   "exception": null,
   "input_path": "__notebook__.ipynb",
   "output_path": "__notebook__.ipynb",
   "parameters": {},
   "start_time": "2025-01-28T02:19:09.538269",
   "version": "2.6.0"
  }
 },
 "nbformat": 4,
 "nbformat_minor": 5
}
