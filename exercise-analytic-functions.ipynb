{
 "cells": [
  {
   "cell_type": "markdown",
   "id": "e1b70e24",
   "metadata": {
    "papermill": {
     "duration": 0.004304,
     "end_time": "2025-03-24T02:17:51.409537",
     "exception": false,
     "start_time": "2025-03-24T02:17:51.405233",
     "status": "completed"
    },
    "tags": []
   },
   "source": [
    "**This notebook is an exercise in the [Advanced SQL](https://www.kaggle.com/learn/advanced-sql) course.  You can reference the tutorial at [this link](https://www.kaggle.com/alexisbcook/analytic-functions).**\n",
    "\n",
    "---\n"
   ]
  },
  {
   "cell_type": "markdown",
   "id": "da7236cc",
   "metadata": {
    "papermill": {
     "duration": 0.003823,
     "end_time": "2025-03-24T02:17:51.417186",
     "exception": false,
     "start_time": "2025-03-24T02:17:51.413363",
     "status": "completed"
    },
    "tags": []
   },
   "source": [
    "# Introduction\n",
    "\n",
    "Here, you'll use window functions to answer questions about the [Chicago Taxi Trips](https://www.kaggle.com/chicago/chicago-taxi-trips-bq) dataset.\n",
    "\n",
    "Before you get started, run the code cell below to set everything up."
   ]
  },
  {
   "cell_type": "code",
   "execution_count": 1,
   "id": "e3d5a620",
   "metadata": {
    "execution": {
     "iopub.execute_input": "2025-03-24T02:17:51.425854Z",
     "iopub.status.busy": "2025-03-24T02:17:51.425393Z",
     "iopub.status.idle": "2025-03-24T02:18:55.870074Z",
     "shell.execute_reply": "2025-03-24T02:18:55.868681Z"
    },
    "papermill": {
     "duration": 64.454366,
     "end_time": "2025-03-24T02:18:55.875185",
     "exception": false,
     "start_time": "2025-03-24T02:17:51.420819",
     "status": "completed"
    },
    "tags": []
   },
   "outputs": [
    {
     "name": "stdout",
     "output_type": "stream",
     "text": [
      "Collecting git+https://github.com/Kaggle/learntools.git\r\n",
      "  Cloning https://github.com/Kaggle/learntools.git to /tmp/pip-req-build-sekhyft6\r\n",
      "  Running command git clone --filter=blob:none --quiet https://github.com/Kaggle/learntools.git /tmp/pip-req-build-sekhyft6\r\n",
      "  fatal: unable to access 'https://github.com/Kaggle/learntools.git/': Could not resolve host: github.com\r\n",
      "  \u001b[1;31merror\u001b[0m: \u001b[1msubprocess-exited-with-error\u001b[0m\r\n",
      "  \r\n",
      "  \u001b[31m×\u001b[0m \u001b[32mgit clone --\u001b[0m\u001b[32mfilter\u001b[0m\u001b[32m=\u001b[0m\u001b[32mblob\u001b[0m\u001b[32m:none --quiet \u001b[0m\u001b[4;32mhttps://github.com/Kaggle/learntools.git\u001b[0m\u001b[32m \u001b[0m\u001b[32m/tmp/\u001b[0m\u001b[32mpip-req-build-sekhyft6\u001b[0m did not run successfully.\r\n",
      "  \u001b[31m│\u001b[0m exit code: \u001b[1;36m128\u001b[0m\r\n",
      "  \u001b[31m╰─>\u001b[0m See above for output.\r\n",
      "  \r\n",
      "  \u001b[1;35mnote\u001b[0m: This error originates from a subprocess, and is likely not a problem with pip.\r\n",
      "\u001b[1;31merror\u001b[0m: \u001b[1msubprocess-exited-with-error\u001b[0m\r\n",
      "\r\n",
      "\u001b[31m×\u001b[0m \u001b[32mgit clone --\u001b[0m\u001b[32mfilter\u001b[0m\u001b[32m=\u001b[0m\u001b[32mblob\u001b[0m\u001b[32m:none --quiet \u001b[0m\u001b[4;32mhttps://github.com/Kaggle/learntools.git\u001b[0m\u001b[32m \u001b[0m\u001b[32m/tmp/\u001b[0m\u001b[32mpip-req-build-sekhyft6\u001b[0m did not run successfully.\r\n",
      "\u001b[31m│\u001b[0m exit code: \u001b[1;36m128\u001b[0m\r\n",
      "\u001b[31m╰─>\u001b[0m See above for output.\r\n",
      "\r\n",
      "\u001b[1;35mnote\u001b[0m: This error originates from a subprocess, and is likely not a problem with pip.\r\n",
      "Using Kaggle's public dataset BigQuery integration.\n"
     ]
    },
    {
     "name": "stderr",
     "output_type": "stream",
     "text": [
      "/usr/local/lib/python3.10/dist-packages/google/cloud/bigquery/table.py:1727: UserWarning: BigQuery Storage module not found, fetch data with the REST endpoint instead.\n",
      "  warnings.warn(\n"
     ]
    },
    {
     "name": "stdout",
     "output_type": "stream",
     "text": [
      "Setup Complete\n"
     ]
    }
   ],
   "source": [
    "# Get most recent checking code\n",
    "!pip install -U -t /kaggle/working/ git+https://github.com/Kaggle/learntools.git\n",
    "# Set up feedback system\n",
    "from learntools.core import binder\n",
    "binder.bind(globals())\n",
    "from learntools.sql_advanced.ex2 import *\n",
    "print(\"Setup Complete\")"
   ]
  },
  {
   "cell_type": "markdown",
   "id": "cadeb01f",
   "metadata": {
    "papermill": {
     "duration": 0.00396,
     "end_time": "2025-03-24T02:18:55.883529",
     "exception": false,
     "start_time": "2025-03-24T02:18:55.879569",
     "status": "completed"
    },
    "tags": []
   },
   "source": [
    "The following code cell fetches the `taxi_trips` table from the `chicago_taxi_trips` dataset. We also preview the first five rows of the table.  You'll use the table to answer the questions below."
   ]
  },
  {
   "cell_type": "code",
   "execution_count": 2,
   "id": "b937d3bc",
   "metadata": {
    "execution": {
     "iopub.execute_input": "2025-03-24T02:18:55.894056Z",
     "iopub.status.busy": "2025-03-24T02:18:55.893457Z",
     "iopub.status.idle": "2025-03-24T02:18:57.333137Z",
     "shell.execute_reply": "2025-03-24T02:18:57.331632Z"
    },
    "papermill": {
     "duration": 1.447593,
     "end_time": "2025-03-24T02:18:57.335319",
     "exception": false,
     "start_time": "2025-03-24T02:18:55.887726",
     "status": "completed"
    },
    "tags": []
   },
   "outputs": [
    {
     "name": "stdout",
     "output_type": "stream",
     "text": [
      "Using Kaggle's public dataset BigQuery integration.\n"
     ]
    },
    {
     "name": "stderr",
     "output_type": "stream",
     "text": [
      "/usr/local/lib/python3.10/dist-packages/pandas/io/formats/format.py:1458: RuntimeWarning: invalid value encountered in greater\n",
      "  has_large_values = (abs_vals > 1e6).any()\n",
      "/usr/local/lib/python3.10/dist-packages/pandas/io/formats/format.py:1459: RuntimeWarning: invalid value encountered in less\n",
      "  has_small_values = ((abs_vals < 10 ** (-self.digits)) & (abs_vals > 0)).any()\n",
      "/usr/local/lib/python3.10/dist-packages/pandas/io/formats/format.py:1459: RuntimeWarning: invalid value encountered in greater\n",
      "  has_small_values = ((abs_vals < 10 ** (-self.digits)) & (abs_vals > 0)).any()\n",
      "/usr/local/lib/python3.10/dist-packages/pandas/io/formats/format.py:1458: RuntimeWarning: invalid value encountered in greater\n",
      "  has_large_values = (abs_vals > 1e6).any()\n",
      "/usr/local/lib/python3.10/dist-packages/pandas/io/formats/format.py:1459: RuntimeWarning: invalid value encountered in less\n",
      "  has_small_values = ((abs_vals < 10 ** (-self.digits)) & (abs_vals > 0)).any()\n",
      "/usr/local/lib/python3.10/dist-packages/pandas/io/formats/format.py:1459: RuntimeWarning: invalid value encountered in greater\n",
      "  has_small_values = ((abs_vals < 10 ** (-self.digits)) & (abs_vals > 0)).any()\n"
     ]
    },
    {
     "data": {
      "text/html": [
       "<div>\n",
       "<style scoped>\n",
       "    .dataframe tbody tr th:only-of-type {\n",
       "        vertical-align: middle;\n",
       "    }\n",
       "\n",
       "    .dataframe tbody tr th {\n",
       "        vertical-align: top;\n",
       "    }\n",
       "\n",
       "    .dataframe thead th {\n",
       "        text-align: right;\n",
       "    }\n",
       "</style>\n",
       "<table border=\"1\" class=\"dataframe\">\n",
       "  <thead>\n",
       "    <tr style=\"text-align: right;\">\n",
       "      <th></th>\n",
       "      <th>unique_key</th>\n",
       "      <th>taxi_id</th>\n",
       "      <th>trip_start_timestamp</th>\n",
       "      <th>trip_end_timestamp</th>\n",
       "      <th>trip_seconds</th>\n",
       "      <th>trip_miles</th>\n",
       "      <th>pickup_census_tract</th>\n",
       "      <th>dropoff_census_tract</th>\n",
       "      <th>pickup_community_area</th>\n",
       "      <th>dropoff_community_area</th>\n",
       "      <th>...</th>\n",
       "      <th>extras</th>\n",
       "      <th>trip_total</th>\n",
       "      <th>payment_type</th>\n",
       "      <th>company</th>\n",
       "      <th>pickup_latitude</th>\n",
       "      <th>pickup_longitude</th>\n",
       "      <th>pickup_location</th>\n",
       "      <th>dropoff_latitude</th>\n",
       "      <th>dropoff_longitude</th>\n",
       "      <th>dropoff_location</th>\n",
       "    </tr>\n",
       "  </thead>\n",
       "  <tbody>\n",
       "    <tr>\n",
       "      <th>0</th>\n",
       "      <td>720534d264001b2644f682755b294067fdf1da21</td>\n",
       "      <td>4bb55b69e710d1792f5fd4888001f4ff0ce34040f976f8...</td>\n",
       "      <td>2013-06-02 08:15:00+00:00</td>\n",
       "      <td>2013-06-02 08:15:00+00:00</td>\n",
       "      <td>60</td>\n",
       "      <td>0.02</td>\n",
       "      <td>&lt;NA&gt;</td>\n",
       "      <td>&lt;NA&gt;</td>\n",
       "      <td>&lt;NA&gt;</td>\n",
       "      <td>&lt;NA&gt;</td>\n",
       "      <td>...</td>\n",
       "      <td>NaN</td>\n",
       "      <td>NaN</td>\n",
       "      <td>Cash</td>\n",
       "      <td>None</td>\n",
       "      <td>NaN</td>\n",
       "      <td>NaN</td>\n",
       "      <td>None</td>\n",
       "      <td>NaN</td>\n",
       "      <td>NaN</td>\n",
       "      <td>None</td>\n",
       "    </tr>\n",
       "    <tr>\n",
       "      <th>1</th>\n",
       "      <td>515b9a6d5234a4d1fb559dca27b3e1cc541a342d</td>\n",
       "      <td>4bb55b69e710d1792f5fd4888001f4ff0ce34040f976f8...</td>\n",
       "      <td>2013-06-24 06:15:00+00:00</td>\n",
       "      <td>2013-06-24 06:15:00+00:00</td>\n",
       "      <td>60</td>\n",
       "      <td>0.04</td>\n",
       "      <td>&lt;NA&gt;</td>\n",
       "      <td>&lt;NA&gt;</td>\n",
       "      <td>1</td>\n",
       "      <td>77</td>\n",
       "      <td>...</td>\n",
       "      <td>NaN</td>\n",
       "      <td>NaN</td>\n",
       "      <td>Cash</td>\n",
       "      <td>None</td>\n",
       "      <td>42.009623</td>\n",
       "      <td>-87.670167</td>\n",
       "      <td>POINT (-87.67016685690001 42.0096228806)</td>\n",
       "      <td>41.986712</td>\n",
       "      <td>-87.663416</td>\n",
       "      <td>POINT (-87.6634164054 41.9867117999)</td>\n",
       "    </tr>\n",
       "    <tr>\n",
       "      <th>2</th>\n",
       "      <td>b1142c1c2c66367edf9a8909815a171955954fb1</td>\n",
       "      <td>a945379688097db2f2e6117c99b1431b6eba73c4bcfea8...</td>\n",
       "      <td>2013-08-11 11:15:00+00:00</td>\n",
       "      <td>2013-08-11 11:30:00+00:00</td>\n",
       "      <td>960</td>\n",
       "      <td>0.43</td>\n",
       "      <td>&lt;NA&gt;</td>\n",
       "      <td>&lt;NA&gt;</td>\n",
       "      <td>7</td>\n",
       "      <td>3</td>\n",
       "      <td>...</td>\n",
       "      <td>NaN</td>\n",
       "      <td>NaN</td>\n",
       "      <td>Cash</td>\n",
       "      <td>None</td>\n",
       "      <td>41.922686</td>\n",
       "      <td>-87.649489</td>\n",
       "      <td>POINT (-87.6494887289 41.9226862843)</td>\n",
       "      <td>41.965812</td>\n",
       "      <td>-87.655879</td>\n",
       "      <td>POINT (-87.6558787862 41.96581197)</td>\n",
       "    </tr>\n",
       "    <tr>\n",
       "      <th>3</th>\n",
       "      <td>1117a97ec6e4fc4444af5e4df4123859a84590bc</td>\n",
       "      <td>332d91df72ca990499bcd315dda5decb444abfd0cb3875...</td>\n",
       "      <td>2013-09-17 09:00:00+00:00</td>\n",
       "      <td>2013-09-17 09:00:00+00:00</td>\n",
       "      <td>180</td>\n",
       "      <td>0.00</td>\n",
       "      <td>&lt;NA&gt;</td>\n",
       "      <td>&lt;NA&gt;</td>\n",
       "      <td>&lt;NA&gt;</td>\n",
       "      <td>&lt;NA&gt;</td>\n",
       "      <td>...</td>\n",
       "      <td>NaN</td>\n",
       "      <td>NaN</td>\n",
       "      <td>Cash</td>\n",
       "      <td>None</td>\n",
       "      <td>NaN</td>\n",
       "      <td>NaN</td>\n",
       "      <td>None</td>\n",
       "      <td>NaN</td>\n",
       "      <td>NaN</td>\n",
       "      <td>None</td>\n",
       "    </tr>\n",
       "    <tr>\n",
       "      <th>4</th>\n",
       "      <td>ca1131c8e2ba0ed7a2a606b416050a55cd411654</td>\n",
       "      <td>332d91df72ca990499bcd315dda5decb444abfd0cb3875...</td>\n",
       "      <td>2013-09-17 09:00:00+00:00</td>\n",
       "      <td>2013-09-17 09:00:00+00:00</td>\n",
       "      <td>60</td>\n",
       "      <td>0.00</td>\n",
       "      <td>&lt;NA&gt;</td>\n",
       "      <td>&lt;NA&gt;</td>\n",
       "      <td>&lt;NA&gt;</td>\n",
       "      <td>&lt;NA&gt;</td>\n",
       "      <td>...</td>\n",
       "      <td>NaN</td>\n",
       "      <td>NaN</td>\n",
       "      <td>Cash</td>\n",
       "      <td>None</td>\n",
       "      <td>NaN</td>\n",
       "      <td>NaN</td>\n",
       "      <td>None</td>\n",
       "      <td>NaN</td>\n",
       "      <td>NaN</td>\n",
       "      <td>None</td>\n",
       "    </tr>\n",
       "  </tbody>\n",
       "</table>\n",
       "<p>5 rows × 23 columns</p>\n",
       "</div>"
      ],
      "text/plain": [
       "                                 unique_key  \\\n",
       "0  720534d264001b2644f682755b294067fdf1da21   \n",
       "1  515b9a6d5234a4d1fb559dca27b3e1cc541a342d   \n",
       "2  b1142c1c2c66367edf9a8909815a171955954fb1   \n",
       "3  1117a97ec6e4fc4444af5e4df4123859a84590bc   \n",
       "4  ca1131c8e2ba0ed7a2a606b416050a55cd411654   \n",
       "\n",
       "                                             taxi_id  \\\n",
       "0  4bb55b69e710d1792f5fd4888001f4ff0ce34040f976f8...   \n",
       "1  4bb55b69e710d1792f5fd4888001f4ff0ce34040f976f8...   \n",
       "2  a945379688097db2f2e6117c99b1431b6eba73c4bcfea8...   \n",
       "3  332d91df72ca990499bcd315dda5decb444abfd0cb3875...   \n",
       "4  332d91df72ca990499bcd315dda5decb444abfd0cb3875...   \n",
       "\n",
       "       trip_start_timestamp        trip_end_timestamp  trip_seconds  \\\n",
       "0 2013-06-02 08:15:00+00:00 2013-06-02 08:15:00+00:00            60   \n",
       "1 2013-06-24 06:15:00+00:00 2013-06-24 06:15:00+00:00            60   \n",
       "2 2013-08-11 11:15:00+00:00 2013-08-11 11:30:00+00:00           960   \n",
       "3 2013-09-17 09:00:00+00:00 2013-09-17 09:00:00+00:00           180   \n",
       "4 2013-09-17 09:00:00+00:00 2013-09-17 09:00:00+00:00            60   \n",
       "\n",
       "   trip_miles  pickup_census_tract  dropoff_census_tract  \\\n",
       "0        0.02                 <NA>                  <NA>   \n",
       "1        0.04                 <NA>                  <NA>   \n",
       "2        0.43                 <NA>                  <NA>   \n",
       "3        0.00                 <NA>                  <NA>   \n",
       "4        0.00                 <NA>                  <NA>   \n",
       "\n",
       "   pickup_community_area  dropoff_community_area  ...  extras  trip_total  \\\n",
       "0                   <NA>                    <NA>  ...     NaN         NaN   \n",
       "1                      1                      77  ...     NaN         NaN   \n",
       "2                      7                       3  ...     NaN         NaN   \n",
       "3                   <NA>                    <NA>  ...     NaN         NaN   \n",
       "4                   <NA>                    <NA>  ...     NaN         NaN   \n",
       "\n",
       "   payment_type  company  pickup_latitude pickup_longitude  \\\n",
       "0          Cash     None              NaN              NaN   \n",
       "1          Cash     None        42.009623       -87.670167   \n",
       "2          Cash     None        41.922686       -87.649489   \n",
       "3          Cash     None              NaN              NaN   \n",
       "4          Cash     None              NaN              NaN   \n",
       "\n",
       "                            pickup_location  dropoff_latitude  \\\n",
       "0                                      None               NaN   \n",
       "1  POINT (-87.67016685690001 42.0096228806)         41.986712   \n",
       "2      POINT (-87.6494887289 41.9226862843)         41.965812   \n",
       "3                                      None               NaN   \n",
       "4                                      None               NaN   \n",
       "\n",
       "   dropoff_longitude                      dropoff_location  \n",
       "0                NaN                                  None  \n",
       "1         -87.663416  POINT (-87.6634164054 41.9867117999)  \n",
       "2         -87.655879    POINT (-87.6558787862 41.96581197)  \n",
       "3                NaN                                  None  \n",
       "4                NaN                                  None  \n",
       "\n",
       "[5 rows x 23 columns]"
      ]
     },
     "execution_count": 2,
     "metadata": {},
     "output_type": "execute_result"
    }
   ],
   "source": [
    "from google.cloud import bigquery\n",
    "\n",
    "# Create a \"Client\" object\n",
    "client = bigquery.Client()\n",
    "\n",
    "# Construct a reference to the \"chicago_taxi_trips\" dataset\n",
    "dataset_ref = client.dataset(\"chicago_taxi_trips\", project=\"bigquery-public-data\")\n",
    "\n",
    "# API request - fetch the dataset\n",
    "dataset = client.get_dataset(dataset_ref)\n",
    "\n",
    "# Construct a reference to the \"taxi_trips\" table\n",
    "table_ref = dataset_ref.table(\"taxi_trips\")\n",
    "\n",
    "# API request - fetch the table\n",
    "table = client.get_table(table_ref)\n",
    "\n",
    "# Preview the first five lines of the table\n",
    "client.list_rows(table, max_results=5).to_dataframe()"
   ]
  },
  {
   "cell_type": "markdown",
   "id": "ad680a96",
   "metadata": {
    "papermill": {
     "duration": 0.004612,
     "end_time": "2025-03-24T02:18:57.345046",
     "exception": false,
     "start_time": "2025-03-24T02:18:57.340434",
     "status": "completed"
    },
    "tags": []
   },
   "source": [
    "# Exercises\n",
    "\n",
    "### 1) How can you predict the demand for taxis?\n",
    "\n",
    "Say you work for a taxi company, and you're interested in predicting the demand for taxis.  Towards this goal, you'd like to create a plot that shows a rolling average of the daily number of taxi trips.  Amend the (partial) query below to return a DataFrame with two columns:\n",
    "- `trip_date` - contains one entry for each date from January 1, 2016, to March 31, 2016.\n",
    "- `avg_num_trips` - shows the average number of daily trips, calculated over a window including the value for the current date, along with the values for the preceding 3 days and the following 3 days, as long as the days fit within the three-month time frame.  For instance, when calculating the value in this column for January 3, 2016, the window will include the number of trips for the preceding 2 days, the current date, and the following 3 days.\n",
    "\n",
    "This query is partially completed for you, and you need only write the part that calculates the `avg_num_trips` column.  Note that this query uses a common table expression (CTE); if you need to review how to use CTEs, you're encouraged to check out [this tutorial](https://www.kaggle.com/dansbecker/as-with) in the [Intro to SQL](https://www.kaggle.com/learn/intro-to-sql) course."
   ]
  },
  {
   "cell_type": "code",
   "execution_count": 3,
   "id": "2fff8143",
   "metadata": {
    "execution": {
     "iopub.execute_input": "2025-03-24T02:18:57.356142Z",
     "iopub.status.busy": "2025-03-24T02:18:57.355678Z",
     "iopub.status.idle": "2025-03-24T02:18:58.633736Z",
     "shell.execute_reply": "2025-03-24T02:18:58.632519Z"
    },
    "papermill": {
     "duration": 1.286365,
     "end_time": "2025-03-24T02:18:58.636038",
     "exception": false,
     "start_time": "2025-03-24T02:18:57.349673",
     "status": "completed"
    },
    "tags": []
   },
   "outputs": [
    {
     "name": "stderr",
     "output_type": "stream",
     "text": [
      "/usr/local/lib/python3.10/dist-packages/google/cloud/bigquery/table.py:1727: UserWarning: BigQuery Storage module not found, fetch data with the REST endpoint instead.\n",
      "  warnings.warn(\n"
     ]
    },
    {
     "data": {
      "text/html": [
       "<div>\n",
       "<style scoped>\n",
       "    .dataframe tbody tr th:only-of-type {\n",
       "        vertical-align: middle;\n",
       "    }\n",
       "\n",
       "    .dataframe tbody tr th {\n",
       "        vertical-align: top;\n",
       "    }\n",
       "\n",
       "    .dataframe thead th {\n",
       "        text-align: right;\n",
       "    }\n",
       "</style>\n",
       "<table border=\"1\" class=\"dataframe\">\n",
       "  <thead>\n",
       "    <tr style=\"text-align: right;\">\n",
       "      <th></th>\n",
       "      <th>trip_date</th>\n",
       "      <th>avg_num_trips</th>\n",
       "    </tr>\n",
       "  </thead>\n",
       "  <tbody>\n",
       "    <tr>\n",
       "      <th>0</th>\n",
       "      <td>2016-01-27</td>\n",
       "      <td>81378.428571</td>\n",
       "    </tr>\n",
       "    <tr>\n",
       "      <th>1</th>\n",
       "      <td>2016-02-26</td>\n",
       "      <td>92183.285714</td>\n",
       "    </tr>\n",
       "    <tr>\n",
       "      <th>2</th>\n",
       "      <td>2016-03-24</td>\n",
       "      <td>86435.714286</td>\n",
       "    </tr>\n",
       "    <tr>\n",
       "      <th>3</th>\n",
       "      <td>2016-02-27</td>\n",
       "      <td>92965.142857</td>\n",
       "    </tr>\n",
       "    <tr>\n",
       "      <th>4</th>\n",
       "      <td>2016-02-23</td>\n",
       "      <td>92244.285714</td>\n",
       "    </tr>\n",
       "  </tbody>\n",
       "</table>\n",
       "</div>"
      ],
      "text/plain": [
       "    trip_date  avg_num_trips\n",
       "0  2016-01-27   81378.428571\n",
       "1  2016-02-26   92183.285714\n",
       "2  2016-03-24   86435.714286\n",
       "3  2016-02-27   92965.142857\n",
       "4  2016-02-23   92244.285714"
      ]
     },
     "metadata": {},
     "output_type": "display_data"
    },
    {
     "data": {
      "application/javascript": [
       "parent.postMessage({\"jupyterEvent\": \"custom.exercise_interaction\", \"data\": {\"outcomeType\": 1, \"valueTowardsCompletion\": 0.3333333333333333, \"interactionType\": 1, \"questionType\": 2, \"questionId\": \"1_TaxiDemand\", \"learnToolsVersion\": \"0.3.4\", \"failureMessage\": \"\", \"exceptionClass\": \"\", \"trace\": \"\"}}, \"*\")"
      ],
      "text/plain": [
       "<IPython.core.display.Javascript object>"
      ]
     },
     "metadata": {},
     "output_type": "display_data"
    },
    {
     "data": {
      "text/markdown": [
       "<span style=\"color:#33cc33\">Correct</span>"
      ],
      "text/plain": [
       "Correct"
      ]
     },
     "metadata": {},
     "output_type": "display_data"
    }
   ],
   "source": [
    "# Fill in the blank below\n",
    "avg_num_trips_query = \"\"\"\n",
    "                      WITH trips_by_day AS\n",
    "                      (\n",
    "                      SELECT DATE(trip_start_timestamp) AS trip_date,\n",
    "                          COUNT(*) as num_trips\n",
    "                      FROM `bigquery-public-data.chicago_taxi_trips.taxi_trips`\n",
    "                      WHERE trip_start_timestamp > '2016-01-01' AND trip_start_timestamp < '2016-04-01'\n",
    "                      GROUP BY trip_date\n",
    "                      ORDER BY trip_date\n",
    "                      )\n",
    "                      SELECT trip_date,\n",
    "                          AVG(num_trips)\n",
    "                          OVER (\n",
    "                               ORDER BY trip_date\n",
    "                               ROWS BETWEEN 3 PRECEDING AND 3 FOLLOWING\n",
    "                               ) AS avg_num_trips\n",
    "                      FROM trips_by_day\n",
    "                      \"\"\"\n",
    "\n",
    "# Check your answer\n",
    "q_1.check()"
   ]
  },
  {
   "cell_type": "code",
   "execution_count": 4,
   "id": "971c2bec",
   "metadata": {
    "execution": {
     "iopub.execute_input": "2025-03-24T02:18:58.648273Z",
     "iopub.status.busy": "2025-03-24T02:18:58.647922Z",
     "iopub.status.idle": "2025-03-24T02:18:58.651906Z",
     "shell.execute_reply": "2025-03-24T02:18:58.650743Z"
    },
    "papermill": {
     "duration": 0.012733,
     "end_time": "2025-03-24T02:18:58.653949",
     "exception": false,
     "start_time": "2025-03-24T02:18:58.641216",
     "status": "completed"
    },
    "tags": []
   },
   "outputs": [],
   "source": [
    "# Lines below will give you a hint or solution code\n",
    "#q_1.hint()\n",
    "#q_1.solution()"
   ]
  },
  {
   "cell_type": "markdown",
   "id": "1b49b79b",
   "metadata": {
    "papermill": {
     "duration": 0.004817,
     "end_time": "2025-03-24T02:18:58.664012",
     "exception": false,
     "start_time": "2025-03-24T02:18:58.659195",
     "status": "completed"
    },
    "tags": []
   },
   "source": [
    "### 2) Can you separate and order trips by community area?\n",
    "\n",
    "The query below returns a DataFrame with three columns from the table: `pickup_community_area`, `trip_start_timestamp`, and `trip_end_timestamp`.  \n",
    "\n",
    "Amend the query to return an additional column called `trip_number` which shows the order in which the trips were taken from their respective community areas.  So, the first trip of the day originating from community area 1 should receive a value of 1; the second trip of the day from the same area should receive a value of 2.  Likewise, the first trip of the day from community area 2 should receive a value of 1, and so on.\n",
    "\n",
    "Note that there are many numbering functions that can be used to solve this problem (depending on how you want to deal with trips that started at the same time from the same community area); to answer this question, please use the **RANK()** function."
   ]
  },
  {
   "cell_type": "code",
   "execution_count": 5,
   "id": "0ac01983",
   "metadata": {
    "execution": {
     "iopub.execute_input": "2025-03-24T02:18:58.675121Z",
     "iopub.status.busy": "2025-03-24T02:18:58.674744Z",
     "iopub.status.idle": "2025-03-24T02:19:03.063075Z",
     "shell.execute_reply": "2025-03-24T02:19:03.061767Z"
    },
    "papermill": {
     "duration": 4.396474,
     "end_time": "2025-03-24T02:19:03.065354",
     "exception": false,
     "start_time": "2025-03-24T02:18:58.668880",
     "status": "completed"
    },
    "tags": []
   },
   "outputs": [
    {
     "name": "stderr",
     "output_type": "stream",
     "text": [
      "/usr/local/lib/python3.10/dist-packages/google/cloud/bigquery/table.py:1727: UserWarning: BigQuery Storage module not found, fetch data with the REST endpoint instead.\n",
      "  warnings.warn(\n"
     ]
    },
    {
     "data": {
      "text/html": [
       "<div>\n",
       "<style scoped>\n",
       "    .dataframe tbody tr th:only-of-type {\n",
       "        vertical-align: middle;\n",
       "    }\n",
       "\n",
       "    .dataframe tbody tr th {\n",
       "        vertical-align: top;\n",
       "    }\n",
       "\n",
       "    .dataframe thead th {\n",
       "        text-align: right;\n",
       "    }\n",
       "</style>\n",
       "<table border=\"1\" class=\"dataframe\">\n",
       "  <thead>\n",
       "    <tr style=\"text-align: right;\">\n",
       "      <th></th>\n",
       "      <th>pickup_community_area</th>\n",
       "      <th>trip_start_timestamp</th>\n",
       "      <th>trip_end_timestamp</th>\n",
       "      <th>trip_number</th>\n",
       "    </tr>\n",
       "  </thead>\n",
       "  <tbody>\n",
       "    <tr>\n",
       "      <th>0</th>\n",
       "      <td>27</td>\n",
       "      <td>2013-10-03 08:15:00+00:00</td>\n",
       "      <td>2013-10-03 08:15:00+00:00</td>\n",
       "      <td>1</td>\n",
       "    </tr>\n",
       "    <tr>\n",
       "      <th>1</th>\n",
       "      <td>27</td>\n",
       "      <td>2013-10-03 10:45:00+00:00</td>\n",
       "      <td>2013-10-03 10:45:00+00:00</td>\n",
       "      <td>2</td>\n",
       "    </tr>\n",
       "    <tr>\n",
       "      <th>2</th>\n",
       "      <td>27</td>\n",
       "      <td>2013-10-03 11:00:00+00:00</td>\n",
       "      <td>2013-10-03 11:00:00+00:00</td>\n",
       "      <td>3</td>\n",
       "    </tr>\n",
       "    <tr>\n",
       "      <th>3</th>\n",
       "      <td>27</td>\n",
       "      <td>2013-10-03 11:00:00+00:00</td>\n",
       "      <td>2013-10-03 11:00:00+00:00</td>\n",
       "      <td>3</td>\n",
       "    </tr>\n",
       "    <tr>\n",
       "      <th>4</th>\n",
       "      <td>27</td>\n",
       "      <td>2013-10-03 12:15:00+00:00</td>\n",
       "      <td>2013-10-03 12:15:00+00:00</td>\n",
       "      <td>5</td>\n",
       "    </tr>\n",
       "  </tbody>\n",
       "</table>\n",
       "</div>"
      ],
      "text/plain": [
       "   pickup_community_area      trip_start_timestamp        trip_end_timestamp  \\\n",
       "0                     27 2013-10-03 08:15:00+00:00 2013-10-03 08:15:00+00:00   \n",
       "1                     27 2013-10-03 10:45:00+00:00 2013-10-03 10:45:00+00:00   \n",
       "2                     27 2013-10-03 11:00:00+00:00 2013-10-03 11:00:00+00:00   \n",
       "3                     27 2013-10-03 11:00:00+00:00 2013-10-03 11:00:00+00:00   \n",
       "4                     27 2013-10-03 12:15:00+00:00 2013-10-03 12:15:00+00:00   \n",
       "\n",
       "   trip_number  \n",
       "0            1  \n",
       "1            2  \n",
       "2            3  \n",
       "3            3  \n",
       "4            5  "
      ]
     },
     "metadata": {},
     "output_type": "display_data"
    },
    {
     "data": {
      "application/javascript": [
       "parent.postMessage({\"jupyterEvent\": \"custom.exercise_interaction\", \"data\": {\"outcomeType\": 1, \"valueTowardsCompletion\": 0.3333333333333333, \"interactionType\": 1, \"questionType\": 2, \"questionId\": \"2_CommunityArea\", \"learnToolsVersion\": \"0.3.4\", \"failureMessage\": \"\", \"exceptionClass\": \"\", \"trace\": \"\"}}, \"*\")"
      ],
      "text/plain": [
       "<IPython.core.display.Javascript object>"
      ]
     },
     "metadata": {},
     "output_type": "display_data"
    },
    {
     "data": {
      "text/markdown": [
       "<span style=\"color:#33cc33\">Correct</span>"
      ],
      "text/plain": [
       "Correct"
      ]
     },
     "metadata": {},
     "output_type": "display_data"
    }
   ],
   "source": [
    "# Amend the query below\n",
    "trip_number_query = \"\"\"\n",
    "                    SELECT pickup_community_area,\n",
    "                        trip_start_timestamp,\n",
    "                        trip_end_timestamp,\n",
    "                        RANK()\n",
    "                            OVER (\n",
    "                                  PARTITION BY pickup_community_area\n",
    "                                  ORDER BY trip_start_timestamp\n",
    "                                 ) AS trip_number\n",
    "                    FROM `bigquery-public-data.chicago_taxi_trips.taxi_trips`\n",
    "                    WHERE DATE(trip_start_timestamp) = '2013-10-03'\n",
    "                    \"\"\"\n",
    "\n",
    "# Check your answer\n",
    "q_2.check()"
   ]
  },
  {
   "cell_type": "code",
   "execution_count": 6,
   "id": "46384aba",
   "metadata": {
    "execution": {
     "iopub.execute_input": "2025-03-24T02:19:03.078719Z",
     "iopub.status.busy": "2025-03-24T02:19:03.078332Z",
     "iopub.status.idle": "2025-03-24T02:19:03.082815Z",
     "shell.execute_reply": "2025-03-24T02:19:03.081503Z"
    },
    "papermill": {
     "duration": 0.013746,
     "end_time": "2025-03-24T02:19:03.084806",
     "exception": false,
     "start_time": "2025-03-24T02:19:03.071060",
     "status": "completed"
    },
    "tags": []
   },
   "outputs": [],
   "source": [
    "# Lines below will give you a hint or solution code\n",
    "#q_2.hint()\n",
    "#q_2.solution()"
   ]
  },
  {
   "cell_type": "markdown",
   "id": "03b09ee9",
   "metadata": {
    "papermill": {
     "duration": 0.005331,
     "end_time": "2025-03-24T02:19:03.096273",
     "exception": false,
     "start_time": "2025-03-24T02:19:03.090942",
     "status": "completed"
    },
    "tags": []
   },
   "source": [
    "### 3) How much time elapses between trips?\n",
    "\n",
    "The (partial) query in the code cell below shows, for each trip in the selected time frame, the corresponding `taxi_id`, `trip_start_timestamp`, and `trip_end_timestamp`. \n",
    "\n",
    "Your task in this exercise is to edit the query to include an additional `prev_break` column that shows the length of the break (in minutes) that the driver had before each trip started (this corresponds to the time between `trip_start_timestamp` of the current trip and `trip_end_timestamp` of the previous trip).  Partition the calculation by `taxi_id`, and order the results within each partition by `trip_start_timestamp`.\n",
    "\n",
    "Some sample results are shown below, where all rows correspond to the same driver (or `taxi_id`).  Take the time now to make sure that the values in the `prev_break` column make sense to you!\n",
    "\n",
    "![first_commands](https://storage.googleapis.com/kaggle-media/learn/images/qjvQzg8.png)\n",
    "\n",
    "Note that the first trip of the day for each driver should have a value of **NaN** (not a number) in the `prev_break` column."
   ]
  },
  {
   "cell_type": "code",
   "execution_count": 7,
   "id": "144bc592",
   "metadata": {
    "execution": {
     "iopub.execute_input": "2025-03-24T02:19:03.108759Z",
     "iopub.status.busy": "2025-03-24T02:19:03.108314Z",
     "iopub.status.idle": "2025-03-24T02:19:16.630194Z",
     "shell.execute_reply": "2025-03-24T02:19:16.629063Z"
    },
    "papermill": {
     "duration": 13.529932,
     "end_time": "2025-03-24T02:19:16.631738",
     "exception": false,
     "start_time": "2025-03-24T02:19:03.101806",
     "status": "completed"
    },
    "tags": []
   },
   "outputs": [
    {
     "name": "stderr",
     "output_type": "stream",
     "text": [
      "/usr/local/lib/python3.10/dist-packages/google/cloud/bigquery/table.py:1727: UserWarning: BigQuery Storage module not found, fetch data with the REST endpoint instead.\n",
      "  warnings.warn(\n"
     ]
    },
    {
     "data": {
      "text/html": [
       "<div>\n",
       "<style scoped>\n",
       "    .dataframe tbody tr th:only-of-type {\n",
       "        vertical-align: middle;\n",
       "    }\n",
       "\n",
       "    .dataframe tbody tr th {\n",
       "        vertical-align: top;\n",
       "    }\n",
       "\n",
       "    .dataframe thead th {\n",
       "        text-align: right;\n",
       "    }\n",
       "</style>\n",
       "<table border=\"1\" class=\"dataframe\">\n",
       "  <thead>\n",
       "    <tr style=\"text-align: right;\">\n",
       "      <th></th>\n",
       "      <th>taxi_id</th>\n",
       "      <th>trip_start_timestamp</th>\n",
       "      <th>trip_end_timestamp</th>\n",
       "      <th>prev_break</th>\n",
       "    </tr>\n",
       "  </thead>\n",
       "  <tbody>\n",
       "    <tr>\n",
       "      <th>0</th>\n",
       "      <td>0008de7a146802839c9e6059f482d292ebdae13c5c31dd...</td>\n",
       "      <td>2013-10-03 11:15:00+00:00</td>\n",
       "      <td>2013-10-03 11:30:00+00:00</td>\n",
       "      <td>&lt;NA&gt;</td>\n",
       "    </tr>\n",
       "    <tr>\n",
       "      <th>1</th>\n",
       "      <td>0008de7a146802839c9e6059f482d292ebdae13c5c31dd...</td>\n",
       "      <td>2013-10-03 11:30:00+00:00</td>\n",
       "      <td>2013-10-03 11:45:00+00:00</td>\n",
       "      <td>0</td>\n",
       "    </tr>\n",
       "    <tr>\n",
       "      <th>2</th>\n",
       "      <td>0008de7a146802839c9e6059f482d292ebdae13c5c31dd...</td>\n",
       "      <td>2013-10-03 11:45:00+00:00</td>\n",
       "      <td>2013-10-03 12:00:00+00:00</td>\n",
       "      <td>0</td>\n",
       "    </tr>\n",
       "    <tr>\n",
       "      <th>3</th>\n",
       "      <td>0008de7a146802839c9e6059f482d292ebdae13c5c31dd...</td>\n",
       "      <td>2013-10-03 12:00:00+00:00</td>\n",
       "      <td>2013-10-03 12:00:00+00:00</td>\n",
       "      <td>0</td>\n",
       "    </tr>\n",
       "    <tr>\n",
       "      <th>4</th>\n",
       "      <td>0008de7a146802839c9e6059f482d292ebdae13c5c31dd...</td>\n",
       "      <td>2013-10-03 12:15:00+00:00</td>\n",
       "      <td>2013-10-03 12:30:00+00:00</td>\n",
       "      <td>15</td>\n",
       "    </tr>\n",
       "  </tbody>\n",
       "</table>\n",
       "</div>"
      ],
      "text/plain": [
       "                                             taxi_id  \\\n",
       "0  0008de7a146802839c9e6059f482d292ebdae13c5c31dd...   \n",
       "1  0008de7a146802839c9e6059f482d292ebdae13c5c31dd...   \n",
       "2  0008de7a146802839c9e6059f482d292ebdae13c5c31dd...   \n",
       "3  0008de7a146802839c9e6059f482d292ebdae13c5c31dd...   \n",
       "4  0008de7a146802839c9e6059f482d292ebdae13c5c31dd...   \n",
       "\n",
       "       trip_start_timestamp        trip_end_timestamp  prev_break  \n",
       "0 2013-10-03 11:15:00+00:00 2013-10-03 11:30:00+00:00        <NA>  \n",
       "1 2013-10-03 11:30:00+00:00 2013-10-03 11:45:00+00:00           0  \n",
       "2 2013-10-03 11:45:00+00:00 2013-10-03 12:00:00+00:00           0  \n",
       "3 2013-10-03 12:00:00+00:00 2013-10-03 12:00:00+00:00           0  \n",
       "4 2013-10-03 12:15:00+00:00 2013-10-03 12:30:00+00:00          15  "
      ]
     },
     "metadata": {},
     "output_type": "display_data"
    },
    {
     "data": {
      "application/javascript": [
       "parent.postMessage({\"jupyterEvent\": \"custom.exercise_interaction\", \"data\": {\"outcomeType\": 1, \"valueTowardsCompletion\": 0.3333333333333333, \"interactionType\": 1, \"questionType\": 2, \"questionId\": \"3_BreakTime\", \"learnToolsVersion\": \"0.3.4\", \"failureMessage\": \"\", \"exceptionClass\": \"\", \"trace\": \"\"}}, \"*\")"
      ],
      "text/plain": [
       "<IPython.core.display.Javascript object>"
      ]
     },
     "metadata": {},
     "output_type": "display_data"
    },
    {
     "data": {
      "text/markdown": [
       "<span style=\"color:#33cc33\">Correct</span>"
      ],
      "text/plain": [
       "Correct"
      ]
     },
     "metadata": {},
     "output_type": "display_data"
    }
   ],
   "source": [
    "# Fill in the blanks below\n",
    "break_time_query = \"\"\"\n",
    "                    SELECT taxi_id,\n",
    "                           trip_start_timestamp,\n",
    "                           trip_end_timestamp,\n",
    "                           TIMESTAMP_DIFF(\n",
    "                               trip_start_timestamp, \n",
    "                               LAG(trip_end_timestamp) OVER (PARTITION BY taxi_id ORDER BY trip_start_timestamp), \n",
    "                               MINUTE\n",
    "                           ) AS prev_break\n",
    "                    FROM `bigquery-public-data.chicago_taxi_trips.taxi_trips`\n",
    "                    WHERE DATE(trip_start_timestamp) = '2013-10-03'\n",
    "                    ORDER BY taxi_id, trip_start_timestamp \n",
    "                   \"\"\"\n",
    "\n",
    "break_time_result = client.query(break_time_query).result().to_dataframe()\n",
    "# Check your answer\n",
    "q_3.check()"
   ]
  },
  {
   "cell_type": "code",
   "execution_count": 8,
   "id": "239e229f",
   "metadata": {
    "execution": {
     "iopub.execute_input": "2025-03-24T02:19:16.645272Z",
     "iopub.status.busy": "2025-03-24T02:19:16.644906Z",
     "iopub.status.idle": "2025-03-24T02:19:16.655899Z",
     "shell.execute_reply": "2025-03-24T02:19:16.654545Z"
    },
    "papermill": {
     "duration": 0.020275,
     "end_time": "2025-03-24T02:19:16.657957",
     "exception": false,
     "start_time": "2025-03-24T02:19:16.637682",
     "status": "completed"
    },
    "tags": []
   },
   "outputs": [
    {
     "data": {
      "application/javascript": [
       "parent.postMessage({\"jupyterEvent\": \"custom.exercise_interaction\", \"data\": {\"interactionType\": 2, \"questionType\": 2, \"questionId\": \"3_BreakTime\", \"learnToolsVersion\": \"0.3.4\", \"valueTowardsCompletion\": 0.0, \"failureMessage\": \"\", \"exceptionClass\": \"\", \"trace\": \"\", \"outcomeType\": 4}}, \"*\")"
      ],
      "text/plain": [
       "<IPython.core.display.Javascript object>"
      ]
     },
     "metadata": {},
     "output_type": "display_data"
    },
    {
     "data": {
      "text/markdown": [
       "<span style=\"color:#3366cc\">Hint:</span> The `TIMESTAMP_DIFF()` function takes three arguments, where the first (`trip_start_timestamp`) and the last (`MINUTE`) are provided for you.  This function provides the time difference (in minutes) of the timestamps in the first two arguments. You need only fill in the second argument, which should use the **LAG()** function to pull the timestamp corresponding to the end of the previous trip (for the same `taxi_id`)."
      ],
      "text/plain": [
       "Hint: The `TIMESTAMP_DIFF()` function takes three arguments, where the first (`trip_start_timestamp`) and the last (`MINUTE`) are provided for you.  This function provides the time difference (in minutes) of the timestamps in the first two arguments. You need only fill in the second argument, which should use the **LAG()** function to pull the timestamp corresponding to the end of the previous trip (for the same `taxi_id`)."
      ]
     },
     "metadata": {},
     "output_type": "display_data"
    },
    {
     "data": {
      "application/javascript": [
       "parent.postMessage({\"jupyterEvent\": \"custom.exercise_interaction\", \"data\": {\"interactionType\": 3, \"questionType\": 2, \"questionId\": \"3_BreakTime\", \"learnToolsVersion\": \"0.3.4\", \"valueTowardsCompletion\": 0.0, \"failureMessage\": \"\", \"exceptionClass\": \"\", \"trace\": \"\", \"outcomeType\": 4}}, \"*\")"
      ],
      "text/plain": [
       "<IPython.core.display.Javascript object>"
      ]
     },
     "metadata": {},
     "output_type": "display_data"
    },
    {
     "data": {
      "text/markdown": [
       "<span style=\"color:#33cc99\">Solution:</span> \n",
       "```python\n",
       "\n",
       "break_time_query = \"\"\"\n",
       "                   SELECT taxi_id,\n",
       "                       trip_start_timestamp,\n",
       "                       trip_end_timestamp,\n",
       "                       TIMESTAMP_DIFF(\n",
       "                           trip_start_timestamp, \n",
       "                           LAG(trip_end_timestamp, 1) OVER (PARTITION BY taxi_id ORDER BY trip_start_timestamp), \n",
       "                           MINUTE) as prev_break\n",
       "                   FROM `bigquery-public-data.chicago_taxi_trips.taxi_trips`\n",
       "                   WHERE DATE(trip_start_timestamp) = '2013-10-03' \n",
       "                   \"\"\"\n",
       "\n",
       "break_time_result = client.query(break_time_query).result().to_dataframe()\n",
       "\n",
       "```"
      ],
      "text/plain": [
       "Solution: \n",
       "```python\n",
       "\n",
       "break_time_query = \"\"\"\n",
       "                   SELECT taxi_id,\n",
       "                       trip_start_timestamp,\n",
       "                       trip_end_timestamp,\n",
       "                       TIMESTAMP_DIFF(\n",
       "                           trip_start_timestamp, \n",
       "                           LAG(trip_end_timestamp, 1) OVER (PARTITION BY taxi_id ORDER BY trip_start_timestamp), \n",
       "                           MINUTE) as prev_break\n",
       "                   FROM `bigquery-public-data.chicago_taxi_trips.taxi_trips`\n",
       "                   WHERE DATE(trip_start_timestamp) = '2013-10-03' \n",
       "                   \"\"\"\n",
       "\n",
       "break_time_result = client.query(break_time_query).result().to_dataframe()\n",
       "\n",
       "```"
      ]
     },
     "metadata": {},
     "output_type": "display_data"
    }
   ],
   "source": [
    "# Lines below will give you a hint or solution code\n",
    "q_3.hint()\n",
    "q_3.solution()"
   ]
  },
  {
   "cell_type": "markdown",
   "id": "c8598331",
   "metadata": {
    "papermill": {
     "duration": 0.005875,
     "end_time": "2025-03-24T02:19:16.670804",
     "exception": false,
     "start_time": "2025-03-24T02:19:16.664929",
     "status": "completed"
    },
    "tags": []
   },
   "source": [
    "# Keep going\n",
    "\n",
    "Move on to learn how to query **[nested and repeated data](https://www.kaggle.com/alexisbcook/nested-and-repeated-data)**."
   ]
  },
  {
   "cell_type": "markdown",
   "id": "b5369271",
   "metadata": {
    "papermill": {
     "duration": 0.00594,
     "end_time": "2025-03-24T02:19:16.682954",
     "exception": false,
     "start_time": "2025-03-24T02:19:16.677014",
     "status": "completed"
    },
    "tags": []
   },
   "source": [
    "---\n",
    "\n",
    "\n",
    "\n",
    "\n",
    "*Have questions or comments? Visit the [course discussion forum](https://www.kaggle.com/learn/advanced-sql/discussion) to chat with other learners.*"
   ]
  }
 ],
 "metadata": {
  "kaggle": {
   "accelerator": "none",
   "dataSources": [
    {
     "datasetId": 22219,
     "sourceId": 28536,
     "sourceType": "datasetVersion"
    }
   ],
   "isGpuEnabled": false,
   "isInternetEnabled": false,
   "language": "python",
   "sourceType": "notebook"
  },
  "kernelspec": {
   "display_name": "Python 3",
   "language": "python",
   "name": "python3"
  },
  "language_info": {
   "codemirror_mode": {
    "name": "ipython",
    "version": 3
   },
   "file_extension": ".py",
   "mimetype": "text/x-python",
   "name": "python",
   "nbconvert_exporter": "python",
   "pygments_lexer": "ipython3",
   "version": "3.10.12"
  },
  "papermill": {
   "default_parameters": {},
   "duration": 90.647075,
   "end_time": "2025-03-24T02:19:19.185897",
   "environment_variables": {},
   "exception": null,
   "input_path": "__notebook__.ipynb",
   "output_path": "__notebook__.ipynb",
   "parameters": {},
   "start_time": "2025-03-24T02:17:48.538822",
   "version": "2.6.0"
  }
 },
 "nbformat": 4,
 "nbformat_minor": 5
}
